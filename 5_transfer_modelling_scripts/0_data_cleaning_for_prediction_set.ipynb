{
 "metadata": {
  "language_info": {
   "codemirror_mode": {
    "name": "ipython",
    "version": 3
   },
   "file_extension": ".py",
   "mimetype": "text/x-python",
   "name": "python",
   "nbconvert_exporter": "python",
   "pygments_lexer": "ipython3",
   "version": "3.8.3"
  },
  "orig_nbformat": 2,
  "kernelspec": {
   "name": "python383jvsc74a57bd0aee8b7b246df8f9039afb4144a1f6fd8d2ca17a180786b69acc140d282b71a49",
   "display_name": "Python 3.8.3 64-bit"
  },
  "metadata": {
   "interpreter": {
    "hash": "aee8b7b246df8f9039afb4144a1f6fd8d2ca17a180786b69acc140d282b71a49"
   }
  }
 },
 "nbformat": 4,
 "nbformat_minor": 2,
 "cells": [
  {
   "cell_type": "code",
   "execution_count": 1,
   "metadata": {},
   "outputs": [],
   "source": [
    "import pandas as pd\n",
    "import matplotlib.pyplot as plt\n",
    "import networkx as nx\n",
    "import numpy as np\n",
    "import itertools\n",
    "from networkx.algorithms import community\n",
    "import operator\n",
    "from itertools import islice\n",
    "import glob\n",
    "import os"
   ]
  },
  {
   "cell_type": "code",
   "execution_count": 4,
   "metadata": {
    "tags": []
   },
   "outputs": [],
   "source": [
    "\n",
    "#Load df\n",
    "predict_df = pd.read_excel('/Users/roland.kovacs4ibm.com/Documents/Uni/PL_Players/Scripts/transfer_modelling/predict_df2.xls')\n",
    "\n",
    "#Clean the MarketValue column\n",
    "for index, row in predict_df.iterrows():\n",
    "    try:\n",
    "        if str(row['MarketValue'][-1:]) == 'M':\n",
    "            predict_df.iloc[index,4] = float(predict_df.iloc[index,4][1:-1])\n",
    "        elif str(row['MarketValue'][-1:]) == 'K':\n",
    "            predict_df.iloc[index,4] = float(predict_df.iloc[index,4][1:-1])/1000\n",
    "        else:\n",
    "            predict_df.iloc[index,4] = float(0)\n",
    "    except:\n",
    "        pass\n",
    "    #print(f'{index} / {len(predict_df)} ready')\n",
    "predict_df['MarketValue'] = predict_df['MarketValue'].astype(float)\n",
    "\n",
    "'''#create dummies for the categorical variables\n",
    "p_df = pd.get_dummies(predict_df, columns=['Nationality', 'Pos', 'LeagueInvolved'])'''\n",
    "\n",
    "#save df to excel\n",
    "predict_df.to_excel('/Users/roland.kovacs4ibm.com/Documents/Uni/PL_Players/Scripts/transfer_modelling/players_2021_predict_df2.xlsx')"
   ]
  },
  {
   "cell_type": "code",
   "execution_count": null,
   "metadata": {},
   "outputs": [],
   "source": []
  }
 ]
}