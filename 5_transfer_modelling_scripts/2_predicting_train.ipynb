{
 "metadata": {
  "language_info": {
   "codemirror_mode": {
    "name": "ipython",
    "version": 3
   },
   "file_extension": ".py",
   "mimetype": "text/x-python",
   "name": "python",
   "nbconvert_exporter": "python",
   "pygments_lexer": "ipython3",
   "version": "3.8.3"
  },
  "orig_nbformat": 2,
  "kernelspec": {
   "name": "python383jvsc74a57bd0aee8b7b246df8f9039afb4144a1f6fd8d2ca17a180786b69acc140d282b71a49",
   "display_name": "Python 3.8.3 64-bit"
  },
  "metadata": {
   "interpreter": {
    "hash": "aee8b7b246df8f9039afb4144a1f6fd8d2ca17a180786b69acc140d282b71a49"
   }
  }
 },
 "nbformat": 4,
 "nbformat_minor": 2,
 "cells": [
  {
   "cell_type": "code",
   "execution_count": 1,
   "metadata": {},
   "outputs": [],
   "source": [
    "#import packages\n",
    "import pandas as pd\n",
    "import matplotlib.pyplot as plt\n",
    "import networkx as nx\n",
    "import numpy as np\n",
    "import itertools\n",
    "from networkx.algorithms import community\n",
    "import operator\n",
    "from itertools import islice\n",
    "import glob\n",
    "import os\n",
    "from sklearn.model_selection import train_test_split\n",
    "from sklearn.ensemble import GradientBoostingClassifier\n",
    "from sklearn.metrics import accuracy_score\n",
    "from sklearn.metrics import confusion_matrix\n",
    "from numpy import mean\n",
    "from numpy import std\n",
    "from sklearn.datasets import make_classification\n",
    "from sklearn.model_selection import cross_val_score\n",
    "from sklearn.model_selection import RepeatedStratifiedKFold\n",
    "from sklearn.model_selection import cross_val_predict\n",
    "from imblearn.over_sampling import SVMSMOTE\n",
    "from sklearn.model_selection import cross_validate\n",
    "from sklearn.ensemble import AdaBoostClassifier\n",
    "from sklearn.ensemble import RandomForestClassifier\n",
    "from sklearn.ensemble import BaggingClassifier\n",
    "from xgboost import XGBClassifier\n",
    "from sklearn import metrics\n",
    "from sklearn import svm\n",
    "from sklearn.linear_model import LogisticRegression\n",
    "from imblearn.over_sampling import BorderlineSMOTE\n",
    "from imblearn.over_sampling import ADASYN\n",
    "from sklearn.feature_selection import RFE\n",
    "from sklearn.tree import DecisionTreeClassifier\n",
    "from sklearn.pipeline import Pipeline\n",
    "from sklearn.model_selection import GridSearchCV\n",
    "import category_encoders as ce\n",
    "from sklearn.experimental import enable_iterative_imputer\n",
    "from sklearn.impute import IterativeImputer\n",
    "from sklearn.preprocessing import StandardScaler\n",
    "from sklearn.naive_bayes import GaussianNB \n",
    "from sklearn.naive_bayes import BernoulliNB"
   ]
  },
  {
   "cell_type": "code",
   "execution_count": 79,
   "metadata": {},
   "outputs": [],
   "source": [
    "#load dataset\n",
    "tdf = pd.read_excel('/Scripts/world_transfers/fin_train_df.xlsx')\n",
    "\n",
    "#drop the randomly created column\n",
    "tdf = tdf.drop('Unnamed: 0', 1)\n"
   ]
  },
  {
   "cell_type": "code",
   "execution_count": 58,
   "metadata": {},
   "outputs": [
    {
     "name": "stdout",
     "output_type": "stream",
     "text": [
      "<class 'pandas.core.frame.DataFrame'>\nRangeIndex: 17431 entries, 0 to 17430\nData columns (total 63 columns):\n #   Column            Non-Null Count  Dtype  \n---  ------            --------------  -----  \n 0   NewName           17431 non-null  object \n 1   MarketValue       17431 non-null  float64\n 2   ClubInvolved      17430 non-null  object \n 3   League            17431 non-null  object \n 4   MainPosition      17431 non-null  object \n 5   LeagueInvolved    17431 non-null  object \n 6   CorrMarketValue   17431 non-null  float64\n 7   ID                17431 non-null  int64  \n 8   Name              17431 non-null  object \n 9   Age               17431 non-null  int64  \n 10  Height_cm         17431 non-null  object \n 11  Weight_kg         17431 non-null  object \n 12  Country           17431 non-null  object \n 13  Club              17431 non-null  object \n 14  Joined            12994 non-null  object \n 15  Position          17431 non-null  object \n 16  Foot              17431 non-null  object \n 17  IntReputation     17431 non-null  int64  \n 18  Crossing          17431 non-null  int64  \n 19  Finishing         17431 non-null  int64  \n 20  Heading_accuracy  17431 non-null  int64  \n 21  Short_passing     17431 non-null  int64  \n 22  Volleys           12994 non-null  float64\n 23  Dribbling         17431 non-null  int64  \n 24  Curve             12994 non-null  float64\n 25  FK_accuracy       17431 non-null  int64  \n 26  Long_passing      17431 non-null  int64  \n 27  Ball_control      17431 non-null  int64  \n 28  Acceleration      17431 non-null  int64  \n 29  Sprint_speed      17431 non-null  int64  \n 30  Agility           12994 non-null  float64\n 31  Reactions         17431 non-null  int64  \n 32  Balance           12994 non-null  float64\n 33  Shot_power        17431 non-null  int64  \n 34  Jumping           12994 non-null  float64\n 35  Stamina           17431 non-null  int64  \n 36  Strength          17431 non-null  int64  \n 37  Long_shots        17431 non-null  int64  \n 38  Aggression        17431 non-null  int64  \n 39  Interceptions     16506 non-null  float64\n 40  Positioning       16506 non-null  float64\n 41  Vision            12994 non-null  float64\n 42  Penalties         17431 non-null  int64  \n 43  Composure         6273 non-null   float64\n 44  Marking           17431 non-null  int64  \n 45  Standing_tackle   17431 non-null  int64  \n 46  Sliding_tackle    12994 non-null  float64\n 47  GK_diving         17431 non-null  int64  \n 48  GK_handling       17431 non-null  int64  \n 49  GK_kicking        17431 non-null  int64  \n 50  GK_positioning    17431 non-null  int64  \n 51  GK_reflexes       17431 non-null  int64  \n 52  Value             17431 non-null  object \n 53  Wage              17431 non-null  object \n 54  Season            17431 non-null  int64  \n 55  Years             17431 non-null  int64  \n 56  DEGREE            17431 non-null  int64  \n 57  Eigv              17431 non-null  float64\n 58  SP_LA_LIGA        17431 non-null  int64  \n 59  EN_PL             17431 non-null  int64  \n 60  IT_SERIE_A        17431 non-null  int64  \n 61  FR_LIGUE_1        17431 non-null  int64  \n 62  GE_BUNDESLIGA     17431 non-null  int64  \ndtypes: float64(13), int64(35), object(15)\nmemory usage: 8.4+ MB\n"
     ]
    }
   ],
   "source": [
    "tdf.info()"
   ]
  },
  {
   "cell_type": "code",
   "execution_count": 80,
   "metadata": {},
   "outputs": [
    {
     "name": "stdout",
     "output_type": "stream",
     "text": [
      "<class 'pandas.core.frame.DataFrame'>\nRangeIndex: 17431 entries, 0 to 17430\nData columns (total 64 columns):\n #   Column            Non-Null Count  Dtype  \n---  ------            --------------  -----  \n 0   NewName           17431 non-null  object \n 1   MarketValue       17431 non-null  float64\n 2   ClubInvolved      17430 non-null  object \n 3   League            17431 non-null  object \n 4   MainPosition      17431 non-null  object \n 5   LeagueInvolved    17431 non-null  object \n 6   CorrMarketValue   17431 non-null  float64\n 7   ID                17431 non-null  int64  \n 8   Name              17431 non-null  object \n 9   Age               17431 non-null  int64  \n 10  Height_cm         17431 non-null  object \n 11  Weight_kg         17431 non-null  object \n 12  Country           17431 non-null  object \n 13  Club              17431 non-null  object \n 14  Joined            12994 non-null  object \n 15  Position          17431 non-null  object \n 16  Foot              17431 non-null  object \n 17  IntReputation     17431 non-null  int64  \n 18  Crossing          17431 non-null  int64  \n 19  Finishing         17431 non-null  int64  \n 20  Heading_accuracy  17431 non-null  int64  \n 21  Short_passing     17431 non-null  int64  \n 22  Volleys           12994 non-null  float64\n 23  Dribbling         17431 non-null  int64  \n 24  Curve             12994 non-null  float64\n 25  FK_accuracy       17431 non-null  int64  \n 26  Long_passing      17431 non-null  int64  \n 27  Ball_control      17431 non-null  int64  \n 28  Acceleration      17431 non-null  int64  \n 29  Sprint_speed      17431 non-null  int64  \n 30  Agility           12994 non-null  float64\n 31  Reactions         17431 non-null  int64  \n 32  Balance           12994 non-null  float64\n 33  Shot_power        17431 non-null  int64  \n 34  Jumping           12994 non-null  float64\n 35  Stamina           17431 non-null  int64  \n 36  Strength          17431 non-null  int64  \n 37  Long_shots        17431 non-null  int64  \n 38  Aggression        17431 non-null  int64  \n 39  Interceptions     16506 non-null  float64\n 40  Positioning       16506 non-null  float64\n 41  Vision            12994 non-null  float64\n 42  Penalties         17431 non-null  int64  \n 43  Composure         6273 non-null   float64\n 44  Marking           17431 non-null  int64  \n 45  Standing_tackle   17431 non-null  int64  \n 46  Sliding_tackle    12994 non-null  float64\n 47  GK_diving         17431 non-null  int64  \n 48  GK_handling       17431 non-null  int64  \n 49  GK_kicking        17431 non-null  int64  \n 50  GK_positioning    17431 non-null  int64  \n 51  GK_reflexes       17431 non-null  int64  \n 52  Value             17431 non-null  object \n 53  Wage              17431 non-null  object \n 54  Season            17431 non-null  int64  \n 55  Years             17431 non-null  int64  \n 56  DEGREE            17431 non-null  int64  \n 57  Eigv              17431 non-null  float64\n 58  SP_LA_LIGA        17431 non-null  int64  \n 59  EN_PL             17431 non-null  int64  \n 60  IT_SERIE_A        17431 non-null  int64  \n 61  FR_LIGUE_1        17431 non-null  int64  \n 62  GE_BUNDESLIGA     17431 non-null  int64  \n 63  target            17431 non-null  int64  \ndtypes: float64(13), int64(36), object(15)\nmemory usage: 8.5+ MB\n"
     ]
    }
   ],
   "source": [
    "tdf['target'] = 0\n",
    "#tdf.loc[tdf.League == 'English Premier League', 'target'] = 1\n",
    "tdf.loc[tdf.League == 'Spain Primera Division', 'target'] = 1\n",
    "#tdf.loc[tdf.League == 'Italian Serie A', 'target'] = 1\n",
    "#tdf.loc[tdf.League == 'French Ligue 1', 'target'] = 1\n",
    "#tdf.loc[tdf.League == 'German 1 Bundesliga', 'target'] = 1\n",
    "tdf.info()"
   ]
  },
  {
   "cell_type": "code",
   "execution_count": 81,
   "metadata": {},
   "outputs": [],
   "source": [
    "tdf = tdf.drop(['NewName', 'ClubInvolved', 'League', 'MainPosition', 'MarketValue',\\\n",
    "     'ID', 'Name', 'Height_cm', 'Weight_kg', 'Club', 'Joined', 'Value',\\\n",
    "     'Wage', 'Season', 'Eigv'], axis = 1)"
   ]
  },
  {
   "cell_type": "code",
   "execution_count": 82,
   "metadata": {},
   "outputs": [
    {
     "data": {
      "text/plain": [
       "0    16249\n",
       "1     1182\n",
       "Name: target, dtype: int64"
      ]
     },
     "execution_count": 82,
     "metadata": {},
     "output_type": "execute_result"
    }
   ],
   "source": [
    "tdf['target'].value_counts()"
   ]
  },
  {
   "cell_type": "code",
   "execution_count": 83,
   "metadata": {},
   "outputs": [],
   "source": [
    "#set feature list and target\n",
    "feature_list = list(tdf.columns.values)\n",
    "feature_list.remove('target')\n",
    "target = 'target'\n",
    "\n",
    "# define dataset\n",
    "X = tdf[feature_list]\n",
    "y = tdf[target]"
   ]
  },
  {
   "cell_type": "code",
   "execution_count": 84,
   "metadata": {},
   "outputs": [
    {
     "data": {
      "text/html": "<div>\n<style scoped>\n    .dataframe tbody tr th:only-of-type {\n        vertical-align: middle;\n    }\n\n    .dataframe tbody tr th {\n        vertical-align: top;\n    }\n\n    .dataframe thead th {\n        text-align: right;\n    }\n</style>\n<table border=\"1\" class=\"dataframe\">\n  <thead>\n    <tr style=\"text-align: right;\">\n      <th></th>\n      <th>LeagueInvolved</th>\n      <th>CorrMarketValue</th>\n      <th>Age</th>\n      <th>Country</th>\n      <th>Position</th>\n      <th>Foot</th>\n      <th>IntReputation</th>\n      <th>Crossing</th>\n      <th>Finishing</th>\n      <th>Heading_accuracy</th>\n      <th>...</th>\n      <th>GK_kicking</th>\n      <th>GK_positioning</th>\n      <th>GK_reflexes</th>\n      <th>Years</th>\n      <th>DEGREE</th>\n      <th>SP_LA_LIGA</th>\n      <th>EN_PL</th>\n      <th>IT_SERIE_A</th>\n      <th>FR_LIGUE_1</th>\n      <th>GE_BUNDESLIGA</th>\n    </tr>\n  </thead>\n  <tbody>\n    <tr>\n      <th>0</th>\n      <td>0.067810</td>\n      <td>5.00</td>\n      <td>20</td>\n      <td>0.067810</td>\n      <td>0.067810</td>\n      <td>0.067810</td>\n      <td>1</td>\n      <td>78</td>\n      <td>73</td>\n      <td>58</td>\n      <td>...</td>\n      <td>12</td>\n      <td>9</td>\n      <td>11</td>\n      <td>2</td>\n      <td>7</td>\n      <td>0</td>\n      <td>0</td>\n      <td>0</td>\n      <td>0</td>\n      <td>0</td>\n    </tr>\n    <tr>\n      <th>1</th>\n      <td>0.033905</td>\n      <td>2.50</td>\n      <td>20</td>\n      <td>0.033905</td>\n      <td>0.067810</td>\n      <td>0.067810</td>\n      <td>1</td>\n      <td>66</td>\n      <td>74</td>\n      <td>54</td>\n      <td>...</td>\n      <td>14</td>\n      <td>10</td>\n      <td>14</td>\n      <td>2</td>\n      <td>0</td>\n      <td>0</td>\n      <td>0</td>\n      <td>0</td>\n      <td>0</td>\n      <td>0</td>\n    </tr>\n    <tr>\n      <th>2</th>\n      <td>0.022603</td>\n      <td>5.00</td>\n      <td>21</td>\n      <td>0.022603</td>\n      <td>0.067810</td>\n      <td>0.033905</td>\n      <td>1</td>\n      <td>62</td>\n      <td>65</td>\n      <td>62</td>\n      <td>...</td>\n      <td>12</td>\n      <td>7</td>\n      <td>5</td>\n      <td>2</td>\n      <td>3</td>\n      <td>0</td>\n      <td>0</td>\n      <td>0</td>\n      <td>0</td>\n      <td>0</td>\n    </tr>\n    <tr>\n      <th>3</th>\n      <td>0.016953</td>\n      <td>5.00</td>\n      <td>21</td>\n      <td>0.016953</td>\n      <td>0.033905</td>\n      <td>0.022603</td>\n      <td>1</td>\n      <td>62</td>\n      <td>65</td>\n      <td>62</td>\n      <td>...</td>\n      <td>12</td>\n      <td>7</td>\n      <td>5</td>\n      <td>2</td>\n      <td>3</td>\n      <td>0</td>\n      <td>0</td>\n      <td>0</td>\n      <td>0</td>\n      <td>0</td>\n    </tr>\n    <tr>\n      <th>4</th>\n      <td>0.013562</td>\n      <td>4.00</td>\n      <td>21</td>\n      <td>0.013562</td>\n      <td>0.067810</td>\n      <td>0.033905</td>\n      <td>1</td>\n      <td>72</td>\n      <td>69</td>\n      <td>57</td>\n      <td>...</td>\n      <td>11</td>\n      <td>9</td>\n      <td>12</td>\n      <td>2</td>\n      <td>0</td>\n      <td>0</td>\n      <td>0</td>\n      <td>0</td>\n      <td>0</td>\n      <td>0</td>\n    </tr>\n    <tr>\n      <th>...</th>\n      <td>...</td>\n      <td>...</td>\n      <td>...</td>\n      <td>...</td>\n      <td>...</td>\n      <td>...</td>\n      <td>...</td>\n      <td>...</td>\n      <td>...</td>\n      <td>...</td>\n      <td>...</td>\n      <td>...</td>\n      <td>...</td>\n      <td>...</td>\n      <td>...</td>\n      <td>...</td>\n      <td>...</td>\n      <td>...</td>\n      <td>...</td>\n      <td>...</td>\n      <td>...</td>\n    </tr>\n    <tr>\n      <th>17426</th>\n      <td>0.036127</td>\n      <td>0.32</td>\n      <td>23</td>\n      <td>0.013605</td>\n      <td>0.056397</td>\n      <td>0.065118</td>\n      <td>1</td>\n      <td>62</td>\n      <td>69</td>\n      <td>67</td>\n      <td>...</td>\n      <td>15</td>\n      <td>15</td>\n      <td>9</td>\n      <td>5</td>\n      <td>10</td>\n      <td>0</td>\n      <td>0</td>\n      <td>0</td>\n      <td>0</td>\n      <td>5</td>\n    </tr>\n    <tr>\n      <th>17427</th>\n      <td>0.002810</td>\n      <td>0.12</td>\n      <td>23</td>\n      <td>0.009305</td>\n      <td>0.061035</td>\n      <td>0.065113</td>\n      <td>1</td>\n      <td>32</td>\n      <td>18</td>\n      <td>65</td>\n      <td>...</td>\n      <td>15</td>\n      <td>7</td>\n      <td>11</td>\n      <td>2</td>\n      <td>25</td>\n      <td>0</td>\n      <td>15</td>\n      <td>0</td>\n      <td>0</td>\n      <td>10</td>\n    </tr>\n    <tr>\n      <th>17428</th>\n      <td>0.002803</td>\n      <td>0.08</td>\n      <td>17</td>\n      <td>0.009295</td>\n      <td>0.061016</td>\n      <td>0.065108</td>\n      <td>1</td>\n      <td>28</td>\n      <td>21</td>\n      <td>59</td>\n      <td>...</td>\n      <td>8</td>\n      <td>12</td>\n      <td>15</td>\n      <td>2</td>\n      <td>0</td>\n      <td>0</td>\n      <td>0</td>\n      <td>0</td>\n      <td>0</td>\n      <td>0</td>\n    </tr>\n    <tr>\n      <th>17429</th>\n      <td>0.002795</td>\n      <td>0.30</td>\n      <td>25</td>\n      <td>0.009284</td>\n      <td>0.080837</td>\n      <td>0.076115</td>\n      <td>1</td>\n      <td>68</td>\n      <td>45</td>\n      <td>58</td>\n      <td>...</td>\n      <td>13</td>\n      <td>13</td>\n      <td>13</td>\n      <td>1</td>\n      <td>19</td>\n      <td>0</td>\n      <td>0</td>\n      <td>0</td>\n      <td>0</td>\n      <td>15</td>\n    </tr>\n    <tr>\n      <th>17430</th>\n      <td>0.015890</td>\n      <td>0.12</td>\n      <td>32</td>\n      <td>0.003082</td>\n      <td>0.056381</td>\n      <td>0.065103</td>\n      <td>2</td>\n      <td>50</td>\n      <td>65</td>\n      <td>63</td>\n      <td>...</td>\n      <td>15</td>\n      <td>10</td>\n      <td>15</td>\n      <td>8</td>\n      <td>13</td>\n      <td>0</td>\n      <td>0</td>\n      <td>0</td>\n      <td>0</td>\n      <td>4</td>\n    </tr>\n  </tbody>\n</table>\n<p>17431 rows × 48 columns</p>\n</div>",
      "text/plain": [
       "       LeagueInvolved  CorrMarketValue  Age   Country  Position      Foot  \\\n",
       "0            0.067810             5.00   20  0.067810  0.067810  0.067810   \n",
       "1            0.033905             2.50   20  0.033905  0.067810  0.067810   \n",
       "2            0.022603             5.00   21  0.022603  0.067810  0.033905   \n",
       "3            0.016953             5.00   21  0.016953  0.033905  0.022603   \n",
       "4            0.013562             4.00   21  0.013562  0.067810  0.033905   \n",
       "...               ...              ...  ...       ...       ...       ...   \n",
       "17426        0.036127             0.32   23  0.013605  0.056397  0.065118   \n",
       "17427        0.002810             0.12   23  0.009305  0.061035  0.065113   \n",
       "17428        0.002803             0.08   17  0.009295  0.061016  0.065108   \n",
       "17429        0.002795             0.30   25  0.009284  0.080837  0.076115   \n",
       "17430        0.015890             0.12   32  0.003082  0.056381  0.065103   \n",
       "\n",
       "       IntReputation  Crossing  Finishing  Heading_accuracy  ...  GK_kicking  \\\n",
       "0                  1        78         73                58  ...          12   \n",
       "1                  1        66         74                54  ...          14   \n",
       "2                  1        62         65                62  ...          12   \n",
       "3                  1        62         65                62  ...          12   \n",
       "4                  1        72         69                57  ...          11   \n",
       "...              ...       ...        ...               ...  ...         ...   \n",
       "17426              1        62         69                67  ...          15   \n",
       "17427              1        32         18                65  ...          15   \n",
       "17428              1        28         21                59  ...           8   \n",
       "17429              1        68         45                58  ...          13   \n",
       "17430              2        50         65                63  ...          15   \n",
       "\n",
       "       GK_positioning  GK_reflexes  Years  DEGREE  SP_LA_LIGA  EN_PL  \\\n",
       "0                   9           11      2       7           0      0   \n",
       "1                  10           14      2       0           0      0   \n",
       "2                   7            5      2       3           0      0   \n",
       "3                   7            5      2       3           0      0   \n",
       "4                   9           12      2       0           0      0   \n",
       "...               ...          ...    ...     ...         ...    ...   \n",
       "17426              15            9      5      10           0      0   \n",
       "17427               7           11      2      25           0     15   \n",
       "17428              12           15      2       0           0      0   \n",
       "17429              13           13      1      19           0      0   \n",
       "17430              10           15      8      13           0      0   \n",
       "\n",
       "       IT_SERIE_A  FR_LIGUE_1  GE_BUNDESLIGA  \n",
       "0               0           0              0  \n",
       "1               0           0              0  \n",
       "2               0           0              0  \n",
       "3               0           0              0  \n",
       "4               0           0              0  \n",
       "...           ...         ...            ...  \n",
       "17426           0           0              5  \n",
       "17427           0           0             10  \n",
       "17428           0           0              0  \n",
       "17429           0           0             15  \n",
       "17430           0           0              4  \n",
       "\n",
       "[17431 rows x 48 columns]"
      ]
     },
     "execution_count": 84,
     "metadata": {},
     "output_type": "execute_result"
    }
   ],
   "source": [
    "#encoding the categorival variables using target encoding\n",
    "cbe_encoder = ce.cat_boost.CatBoostEncoder()\n",
    "X_cbe = cbe_encoder.fit_transform(X,y)\n",
    "X_cbe"
   ]
  },
  {
   "cell_type": "code",
   "execution_count": 85,
   "metadata": {},
   "outputs": [
    {
     "name": "stdout",
     "output_type": "stream",
     "text": [
      "<class 'pandas.core.frame.DataFrame'>\nRangeIndex: 17431 entries, 0 to 17430\nData columns (total 48 columns):\n #   Column            Non-Null Count  Dtype  \n---  ------            --------------  -----  \n 0   LeagueInvolved    17431 non-null  float64\n 1   CorrMarketValue   17431 non-null  float64\n 2   Age               17431 non-null  float64\n 3   Country           17431 non-null  float64\n 4   Position          17431 non-null  float64\n 5   Foot              17431 non-null  float64\n 6   IntReputation     17431 non-null  float64\n 7   Crossing          17431 non-null  float64\n 8   Finishing         17431 non-null  float64\n 9   Heading_accuracy  17431 non-null  float64\n 10  Short_passing     17431 non-null  float64\n 11  Volleys           17431 non-null  float64\n 12  Dribbling         17431 non-null  float64\n 13  Curve             17431 non-null  float64\n 14  FK_accuracy       17431 non-null  float64\n 15  Long_passing      17431 non-null  float64\n 16  Ball_control      17431 non-null  float64\n 17  Acceleration      17431 non-null  float64\n 18  Sprint_speed      17431 non-null  float64\n 19  Agility           17431 non-null  float64\n 20  Reactions         17431 non-null  float64\n 21  Balance           17431 non-null  float64\n 22  Shot_power        17431 non-null  float64\n 23  Jumping           17431 non-null  float64\n 24  Stamina           17431 non-null  float64\n 25  Strength          17431 non-null  float64\n 26  Long_shots        17431 non-null  float64\n 27  Aggression        17431 non-null  float64\n 28  Interceptions     17431 non-null  float64\n 29  Positioning       17431 non-null  float64\n 30  Vision            17431 non-null  float64\n 31  Penalties         17431 non-null  float64\n 32  Composure         17431 non-null  float64\n 33  Marking           17431 non-null  float64\n 34  Standing_tackle   17431 non-null  float64\n 35  Sliding_tackle    17431 non-null  float64\n 36  GK_diving         17431 non-null  float64\n 37  GK_handling       17431 non-null  float64\n 38  GK_kicking        17431 non-null  float64\n 39  GK_positioning    17431 non-null  float64\n 40  GK_reflexes       17431 non-null  float64\n 41  Years             17431 non-null  float64\n 42  DEGREE            17431 non-null  float64\n 43  SP_LA_LIGA        17431 non-null  float64\n 44  EN_PL             17431 non-null  float64\n 45  IT_SERIE_A        17431 non-null  float64\n 46  FR_LIGUE_1        17431 non-null  float64\n 47  GE_BUNDESLIGA     17431 non-null  float64\ndtypes: float64(48)\nmemory usage: 6.4 MB\n"
     ]
    }
   ],
   "source": [
    "#Impute missing values\n",
    "imputer = IterativeImputer()\n",
    "imputer.fit(X_cbe)\n",
    "X_imp = imputer.transform(X_cbe)\n",
    "X_imp = pd.DataFrame(data = X_imp, columns = X_cbe.columns)\n",
    "X_imp.info()"
   ]
  },
  {
   "cell_type": "code",
   "execution_count": 86,
   "metadata": {},
   "outputs": [],
   "source": [
    "#standardization \n",
    "scaler = StandardScaler()\n",
    "X_imp_st = scaler.fit_transform(X_imp)\n",
    "X_imp_st = pd.DataFrame(data = X_imp_st, columns=X_imp.columns)"
   ]
  },
  {
   "cell_type": "markdown",
   "metadata": {},
   "source": [
    "Test different models"
   ]
  },
  {
   "cell_type": "code",
   "execution_count": 104,
   "metadata": {},
   "outputs": [
    {
     "name": "stdout",
     "output_type": "stream",
     "text": [
      "fit_time 11.83364384174347\nscore_time 0.031321048736572266\ntest_acc 0.9234698624116389\ntest_recall 0.25236434733532204\ntest_auc 0.898659509078494\n"
     ]
    }
   ],
   "source": [
    "# define the model\n",
    "model = GradientBoostingClassifier(n_estimators=50)\n",
    "\n",
    "# define the evaluation method\n",
    "cv = RepeatedStratifiedKFold(n_splits=10, n_repeats=2, random_state=1)\n",
    "\n",
    "#scoring params\n",
    "scoring = {'acc': 'accuracy',\n",
    "           'recall': 'recall',\n",
    "           'auc': 'roc_auc'}\n",
    "\n",
    "# evaluate the model on the dataset\n",
    "n_scores = cross_validate(model, X_imp_st, y, scoring=scoring, cv=cv, n_jobs=-1, return_train_score= False)\n",
    "\n",
    "# report performance\n",
    "for key, value in n_scores.items():\n",
    "    print(key, mean(value))"
   ]
  },
  {
   "cell_type": "code",
   "execution_count": 119,
   "metadata": {},
   "outputs": [
    {
     "name": "stdout",
     "output_type": "stream",
     "text": [
      "fit_time 8.733794414997101\nscore_time 0.25274202823638914\ntest_acc 0.9199130236542501\ntest_recall 0.3172740466016286\ntest_auc 0.8911522592899956\n"
     ]
    }
   ],
   "source": [
    "# define the model\n",
    "model = AdaBoostClassifier(n_estimators=50)\n",
    "\n",
    "# define the evaluation method\n",
    "cv = RepeatedStratifiedKFold(n_splits=10, n_repeats=2, random_state=1)\n",
    "\n",
    "#scoring params\n",
    "scoring = {'acc': 'accuracy',\n",
    "           'recall': 'recall',\n",
    "           'auc': 'roc_auc'}\n",
    "\n",
    "# evaluate the model on the dataset\n",
    "n_scores = cross_validate(model, X_imp_st, y, scoring=scoring, cv=cv, n_jobs=-1, return_train_score= False)\n",
    "\n",
    "# report performance\n",
    "for key, value in n_scores.items():\n",
    "    print(key, mean(value))"
   ]
  },
  {
   "cell_type": "code",
   "execution_count": 49,
   "metadata": {},
   "outputs": [
    {
     "name": "stdout",
     "output_type": "stream",
     "text": [
      "fit_time 17.502425491809845\nscore_time 0.09470688104629517\ntest_acc 0.9264530763947005\ntest_recall 0.3654136096105781\ntest_auc 0.9066554245711682\n"
     ]
    }
   ],
   "source": [
    "# define the model\n",
    "model = XGBClassifier(n_estimators=50)\n",
    "\n",
    "# define the evaluation method\n",
    "cv = RepeatedStratifiedKFold(n_splits=10, n_repeats=2, random_state=1)\n",
    "\n",
    "#scoring params\n",
    "scoring = {'acc': 'accuracy',\n",
    "           'recall': 'recall',\n",
    "           'auc': 'roc_auc'}\n",
    "\n",
    "# evaluate the model on the dataset\n",
    "n_scores = cross_validate(model, X_imp_st, y, scoring=scoring, cv=cv, n_jobs=-1, return_train_score= False)\n",
    "\n",
    "# report performance\n",
    "for key, value in n_scores.items():\n",
    "    print(key, mean(value))"
   ]
  },
  {
   "cell_type": "code",
   "execution_count": 121,
   "metadata": {},
   "outputs": [
    {
     "name": "stdout",
     "output_type": "stream",
     "text": [
      "fit_time 10.116764390468598\nscore_time 0.23379260301589966\ntest_acc 0.9262234718691278\ntest_recall 0.27103523341127145\ntest_auc 0.8956466484894117\n"
     ]
    }
   ],
   "source": [
    "# define the model\n",
    "model = RandomForestClassifier(n_estimators=50)\n",
    "\n",
    "# define the evaluation method\n",
    "cv = RepeatedStratifiedKFold(n_splits=10, n_repeats=2, random_state=1)\n",
    "\n",
    "#scoring params\n",
    "scoring = {'acc': 'accuracy',\n",
    "           'recall': 'recall',\n",
    "           'auc': 'roc_auc'}\n",
    "\n",
    "# evaluate the model on the dataset\n",
    "n_scores = cross_validate(model, X_imp_st, y, scoring=scoring, cv=cv, n_jobs=-1, return_train_score= False)\n",
    "\n",
    "# report performance\n",
    "for key, value in n_scores.items():\n",
    "    print(key, mean(value))"
   ]
  },
  {
   "cell_type": "code",
   "execution_count": 122,
   "metadata": {},
   "outputs": [
    {
     "name": "stdout",
     "output_type": "stream",
     "text": [
      "fit_time 59.43199825286865\nscore_time 0.18448224067687988\ntest_acc 0.9276864996026044\ntest_recall 0.324883092800129\ntest_auc 0.8901673868153626\n"
     ]
    }
   ],
   "source": [
    "# define the model\n",
    "model = BaggingClassifier(n_estimators=50)\n",
    "\n",
    "# define the evaluation method\n",
    "cv = RepeatedStratifiedKFold(n_splits=10, n_repeats=2, random_state=1)\n",
    "\n",
    "#scoring params\n",
    "scoring = {'acc': 'accuracy',\n",
    "           'recall': 'recall',\n",
    "           'auc': 'roc_auc'}\n",
    "\n",
    "# evaluate the model on the dataset\n",
    "n_scores = cross_validate(model, X_imp_st, y, scoring=scoring, cv=cv, n_jobs=-1, return_train_score= False)\n",
    "\n",
    "# report performance\n",
    "for key, value in n_scores.items():\n",
    "    print(key, mean(value))"
   ]
  },
  {
   "cell_type": "code",
   "execution_count": 123,
   "metadata": {},
   "outputs": [
    {
     "name": "stdout",
     "output_type": "stream",
     "text": [
      "fit_time 0.7544532895088196\nscore_time 0.04191625118255615\ntest_acc 0.9182492585018978\ntest_recall 0.24980851406917676\ntest_auc 0.8689397116005617\n"
     ]
    }
   ],
   "source": [
    "# define the model\n",
    "model = LogisticRegression()\n",
    "\n",
    "# define the evaluation method\n",
    "cv = RepeatedStratifiedKFold(n_splits=10, n_repeats=2, random_state=1)\n",
    "\n",
    "#scoring params\n",
    "scoring = {'acc': 'accuracy',\n",
    "           'recall': 'recall',\n",
    "           'auc': 'roc_auc'}\n",
    "\n",
    "# evaluate the model on the dataset\n",
    "n_scores = cross_validate(model, X_imp_st, y, scoring=scoring, cv=cv, n_jobs=-1, return_train_score= False)\n",
    "\n",
    "# report performance\n",
    "for key, value in n_scores.items():\n",
    "    print(key, mean(value))"
   ]
  },
  {
   "cell_type": "code",
   "execution_count": 126,
   "metadata": {},
   "outputs": [
    {
     "name": "stdout",
     "output_type": "stream",
     "text": [
      "fit_time 0.05382508039474487\nscore_time 0.03580056428909302\ntest_acc 0.8331993439024776\ntest_recall 0.6380452309925019\ntest_auc 0.8203326906951937\n"
     ]
    }
   ],
   "source": [
    "\n",
    "# define the model\n",
    "model = GaussianNB()\n",
    "\n",
    "# define the evaluation method\n",
    "cv = RepeatedStratifiedKFold(n_splits=10, n_repeats=2, random_state=1)\n",
    "\n",
    "#scoring params\n",
    "scoring = {'acc': 'accuracy',\n",
    "           'recall': 'recall',\n",
    "           'auc': 'roc_auc'}\n",
    "\n",
    "# evaluate the model on the dataset\n",
    "n_scores = cross_validate(model, X_imp_st, y, scoring=scoring, cv=cv, n_jobs=-1, return_train_score= False)\n",
    "\n",
    "# report performance\n",
    "for key, value in n_scores.items():\n",
    "    print(key, mean(value))"
   ]
  },
  {
   "cell_type": "code",
   "execution_count": 127,
   "metadata": {},
   "outputs": [
    {
     "name": "stdout",
     "output_type": "stream",
     "text": [
      "fit_time 0.05361593961715698\nscore_time 0.025421297550201415\ntest_acc 0.7766043202955991\ntest_recall 0.6456643553978876\ntest_auc 0.7858626379240425\n"
     ]
    }
   ],
   "source": [
    "# define the model\n",
    "model = BernoulliNB()\n",
    "\n",
    "# define the evaluation method\n",
    "cv = RepeatedStratifiedKFold(n_splits=10, n_repeats=2, random_state=1)\n",
    "\n",
    "#scoring params\n",
    "scoring = {'acc': 'accuracy',\n",
    "           'recall': 'recall',\n",
    "           'auc': 'roc_auc'}\n",
    "\n",
    "# evaluate the model on the dataset\n",
    "n_scores = cross_validate(model, X_imp_st, y, scoring=scoring, cv=cv, n_jobs=-1, return_train_score= False)\n",
    "\n",
    "# report performance\n",
    "for key, value in n_scores.items():\n",
    "    print(key, mean(value))"
   ]
  },
  {
   "cell_type": "markdown",
   "metadata": {},
   "source": [
    "XGBClassifier"
   ]
  },
  {
   "cell_type": "markdown",
   "metadata": {},
   "source": [
    "XGBClassifier with every graph field: AUC: 0.9065, recall: 0.3654\n",
    "XGBClassifier without years: AUC: 0.9062, recall: 0.3574 -- year should be included\n",
    "XGBClassifier without eigv: AUC: 0.9065, recall: 0.3688 -- year should be excluded\n",
    "XGBClassifier without degree: AUC: 0.8934, recall: 0.3530 -- year should be included\n",
    "XGBClassifier without league degrees: AUC: 0.8889, recall: 0.3340 -- year should be included"
   ]
  },
  {
   "cell_type": "code",
   "execution_count": 130,
   "metadata": {},
   "outputs": [
    {
     "name": "stdout",
     "output_type": "stream",
     "text": [
      "fit_time 37.22202730178833\nscore_time 0.07491999864578247\ntest_acc 0.9567089116967947\ntest_recall 0.9500377912411837\ntest_auc 0.991605140873738\n"
     ]
    }
   ],
   "source": [
    "# define the model\n",
    "model = XGBClassifier(n_estimators=50)\n",
    "\n",
    "#overfit the target label\n",
    "over = SVMSMOTE()\n",
    "X_res, y_res = over.fit_resample(X_imp, y)\n",
    "\n",
    "# define the evaluation method\n",
    "cv = RepeatedStratifiedKFold(n_splits=10, n_repeats=2, random_state=1)\n",
    "\n",
    "#scoring params\n",
    "scoring = {'acc': 'accuracy',\n",
    "           'recall': 'recall',\n",
    "           'auc': 'roc_auc'}\n",
    "\n",
    "# evaluate the model on the dataset\n",
    "n_scores = cross_validate(model, X_res, y_res, scoring=scoring, cv=cv, n_jobs=-1, return_train_score= False)\n",
    "\n",
    "# report performance\n",
    "for key, value in n_scores.items():\n",
    "    print(key, mean(value))"
   ]
  },
  {
   "cell_type": "code",
   "execution_count": 132,
   "metadata": {},
   "outputs": [
    {
     "name": "stdout",
     "output_type": "stream",
     "text": [
      "0.1\n",
      "0.3\n",
      "0.5\n",
      "0.7\n"
     ]
    }
   ],
   "source": [
    "# define the model\n",
    "model = XGBClassifier(n_estimators=50)\n",
    "\n",
    "# define the evaluation method\n",
    "cv = RepeatedStratifiedKFold(n_splits=10, n_repeats=2, random_state=1)\n",
    "\n",
    "#scoring params\n",
    "scoring = {'acc': 'accuracy',\n",
    "           'recall': 'recall',\n",
    "           'auc': 'roc_auc'}\n",
    "\n",
    "#set k values\n",
    "sampling_strategy = [0.1, 0.3, 0.5, 0.7]\n",
    "\n",
    "#create df for metrics\n",
    "indexes = [0.1, 0.3, 0.5, 0.7]\n",
    "columns= ['test_acc', 'test_recall', 'test_auc']\n",
    "metric_df = pd.DataFrame(index=indexes, columns=columns)\n",
    "metric_df = metric_df.fillna(0)\n",
    "metric_df = metric_df.astype(float)\n",
    "\n",
    "for s in sampling_strategy:\n",
    "    #overfit the target label\n",
    "    over = SVMSMOTE(sampling_strategy=s)\n",
    "    X_res, y_res = over.fit_resample(X_imp, y)\n",
    "\n",
    "    # evaluate the model on the dataset\n",
    "    n_scores = cross_validate(model, X_res, y_res, scoring=scoring, cv=cv, n_jobs=-1, return_train_score= False)\n",
    "\n",
    "    # report performance\n",
    "    for key, value in n_scores.items():\n",
    "        if key not in ('fit_time', 'score_time'):\n",
    "            metric_df[key][s] = mean(value)\n",
    "\n",
    "    print(s)"
   ]
  },
  {
   "cell_type": "code",
   "execution_count": 133,
   "metadata": {},
   "outputs": [
    {
     "data": {
      "text/plain": [
       "<AxesSubplot:>"
      ]
     },
     "execution_count": 133,
     "metadata": {},
     "output_type": "execute_result"
    },
    {
     "data": {
      "image/png": "[encoded data removed]",
      "image/svg+xml": "<?xml version=\"1.0\" encoding=\"utf-8\" standalone=\"no\"?>\n<!DOCTYPE svg PUBLIC \"-//W3C//DTD SVG 1.1//EN\"\n  \"http://www.w3.org/Graphics/SVG/1.1/DTD/svg11.dtd\">\n<!-- Created with matplotlib (https://matplotlib.org/) -->\n<svg height=\"248.518125pt\" version=\"1.1\" viewBox=\"0 0 372.103125 248.518125\" width=\"372.103125pt\" xmlns=\"http://www.w3.org/2000/svg\" xmlns:xlink=\"http://www.w3.org/1999/xlink\">\n <metadata>\n  <rdf:RDF xmlns:cc=\"http://creativecommons.org/ns#\" xmlns:dc=\"http://purl.org/dc/elements/1.1/\" xmlns:rdf=\"http://www.w3.org/1999/02/22-rdf-syntax-ns#\">\n   <cc:Work>\n    <dc:type rdf:resource=\"http://purl.org/dc/dcmitype/StillImage\"/>\n    <dc:date>2021-06-15T01:34:47.824829</dc:date>\n    <dc:format>image/svg+xml</dc:format>\n    <dc:creator>\n     <cc:Agent>\n      <dc:title>Matplotlib v3.3.4, https://matplotlib.org/</dc:title>\n     </cc:Agent>\n    </dc:creator>\n   </cc:Work>\n  </rdf:RDF>\n </metadata>\n <defs>\n  <style type=\"text/css\">*{stroke-linecap:butt;stroke-linejoin:round;}</style>\n </defs>\n <g id=\"figure_1\">\n  <g id=\"patch_1\">\n   <path d=\"M 0 248.518125 \nL 372.103125 248.518125 \nL 372.103125 0 \nL 0 0 \nz\n\" style=\"fill:none;\"/>\n  </g>\n  <g id=\"axes_1\">\n   <g id=\"patch_2\">\n    <path d=\"M 30.103125 224.64 \nL 364.903125 224.64 \nL 364.903125 7.2 \nL 30.103125 7.2 \nz\n\" style=\"fill:#ffffff;\"/>\n   </g>\n   <g id=\"matplotlib.axis_1\">\n    <g id=\"xtick_1\">\n     <g id=\"line2d_1\">\n      <defs>\n       <path d=\"M 0 0 \nL 0 3.5 \n\" id=\"mb8bd8c1eee\" style=\"stroke:#000000;stroke-width:0.8;\"/>\n      </defs>\n      <g>\n       <use style=\"stroke:#000000;stroke-width:0.8;\" x=\"45.321307\" xlink:href=\"#mb8bd8c1eee\" y=\"224.64\"/>\n      </g>\n     </g>\n     <g id=\"text_1\">\n      <!-- 0.1 -->\n      <g transform=\"translate(37.369744 239.238438)scale(0.1 -0.1)\">\n       <defs>\n        <path d=\"M 31.78125 66.40625 \nQ 24.171875 66.40625 20.328125 58.90625 \nQ 16.5 51.421875 16.5 36.375 \nQ 16.5 21.390625 20.328125 13.890625 \nQ 24.171875 6.390625 31.78125 6.390625 \nQ 39.453125 6.390625 43.28125 13.890625 \nQ 47.125 21.390625 47.125 36.375 \nQ 47.125 51.421875 43.28125 58.90625 \nQ 39.453125 66.40625 31.78125 66.40625 \nz\nM 31.78125 74.21875 \nQ 44.046875 74.21875 50.515625 64.515625 \nQ 56.984375 54.828125 56.984375 36.375 \nQ 56.984375 17.96875 50.515625 8.265625 \nQ 44.046875 -1.421875 31.78125 -1.421875 \nQ 19.53125 -1.421875 13.0625 8.265625 \nQ 6.59375 17.96875 6.59375 36.375 \nQ 6.59375 54.828125 13.0625 64.515625 \nQ 19.53125 74.21875 31.78125 74.21875 \nz\n\" id=\"DejaVuSans-48\"/>\n        <path d=\"M 10.6875 12.40625 \nL 21 12.40625 \nL 21 0 \nL 10.6875 0 \nz\n\" id=\"DejaVuSans-46\"/>\n        <path d=\"M 12.40625 8.296875 \nL 28.515625 8.296875 \nL 28.515625 63.921875 \nL 10.984375 60.40625 \nL 10.984375 69.390625 \nL 28.421875 72.90625 \nL 38.28125 72.90625 \nL 38.28125 8.296875 \nL 54.390625 8.296875 \nL 54.390625 0 \nL 12.40625 0 \nz\n\" id=\"DejaVuSans-49\"/>\n       </defs>\n       <use xlink:href=\"#DejaVuSans-48\"/>\n       <use x=\"63.623047\" xlink:href=\"#DejaVuSans-46\"/>\n       <use x=\"95.410156\" xlink:href=\"#DejaVuSans-49\"/>\n      </g>\n     </g>\n    </g>\n    <g id=\"xtick_2\">\n     <g id=\"line2d_2\">\n      <g>\n       <use style=\"stroke:#000000;stroke-width:0.8;\" x=\"96.04858\" xlink:href=\"#mb8bd8c1eee\" y=\"224.64\"/>\n      </g>\n     </g>\n     <g id=\"text_2\">\n      <!-- 0.2 -->\n      <g transform=\"translate(88.097017 239.238438)scale(0.1 -0.1)\">\n       <defs>\n        <path d=\"M 19.1875 8.296875 \nL 53.609375 8.296875 \nL 53.609375 0 \nL 7.328125 0 \nL 7.328125 8.296875 \nQ 12.9375 14.109375 22.625 23.890625 \nQ 32.328125 33.6875 34.8125 36.53125 \nQ 39.546875 41.84375 41.421875 45.53125 \nQ 43.3125 49.21875 43.3125 52.78125 \nQ 43.3125 58.59375 39.234375 62.25 \nQ 35.15625 65.921875 28.609375 65.921875 \nQ 23.96875 65.921875 18.8125 64.3125 \nQ 13.671875 62.703125 7.8125 59.421875 \nL 7.8125 69.390625 \nQ 13.765625 71.78125 18.9375 73 \nQ 24.125 74.21875 28.421875 74.21875 \nQ 39.75 74.21875 46.484375 68.546875 \nQ 53.21875 62.890625 53.21875 53.421875 \nQ 53.21875 48.921875 51.53125 44.890625 \nQ 49.859375 40.875 45.40625 35.40625 \nQ 44.1875 33.984375 37.640625 27.21875 \nQ 31.109375 20.453125 19.1875 8.296875 \nz\n\" id=\"DejaVuSans-50\"/>\n       </defs>\n       <use xlink:href=\"#DejaVuSans-48\"/>\n       <use x=\"63.623047\" xlink:href=\"#DejaVuSans-46\"/>\n       <use x=\"95.410156\" xlink:href=\"#DejaVuSans-50\"/>\n      </g>\n     </g>\n    </g>\n    <g id=\"xtick_3\">\n     <g id=\"line2d_3\">\n      <g>\n       <use style=\"stroke:#000000;stroke-width:0.8;\" x=\"146.775852\" xlink:href=\"#mb8bd8c1eee\" y=\"224.64\"/>\n      </g>\n     </g>\n     <g id=\"text_3\">\n      <!-- 0.3 -->\n      <g transform=\"translate(138.82429 239.238438)scale(0.1 -0.1)\">\n       <defs>\n        <path d=\"M 40.578125 39.3125 \nQ 47.65625 37.796875 51.625 33 \nQ 55.609375 28.21875 55.609375 21.1875 \nQ 55.609375 10.40625 48.1875 4.484375 \nQ 40.765625 -1.421875 27.09375 -1.421875 \nQ 22.515625 -1.421875 17.65625 -0.515625 \nQ 12.796875 0.390625 7.625 2.203125 \nL 7.625 11.71875 \nQ 11.71875 9.328125 16.59375 8.109375 \nQ 21.484375 6.890625 26.8125 6.890625 \nQ 36.078125 6.890625 40.9375 10.546875 \nQ 45.796875 14.203125 45.796875 21.1875 \nQ 45.796875 27.640625 41.28125 31.265625 \nQ 36.765625 34.90625 28.71875 34.90625 \nL 20.21875 34.90625 \nL 20.21875 43.015625 \nL 29.109375 43.015625 \nQ 36.375 43.015625 40.234375 45.921875 \nQ 44.09375 48.828125 44.09375 54.296875 \nQ 44.09375 59.90625 40.109375 62.90625 \nQ 36.140625 65.921875 28.71875 65.921875 \nQ 24.65625 65.921875 20.015625 65.03125 \nQ 15.375 64.15625 9.8125 62.3125 \nL 9.8125 71.09375 \nQ 15.4375 72.65625 20.34375 73.4375 \nQ 25.25 74.21875 29.59375 74.21875 \nQ 40.828125 74.21875 47.359375 69.109375 \nQ 53.90625 64.015625 53.90625 55.328125 \nQ 53.90625 49.265625 50.4375 45.09375 \nQ 46.96875 40.921875 40.578125 39.3125 \nz\n\" id=\"DejaVuSans-51\"/>\n       </defs>\n       <use xlink:href=\"#DejaVuSans-48\"/>\n       <use x=\"63.623047\" xlink:href=\"#DejaVuSans-46\"/>\n       <use x=\"95.410156\" xlink:href=\"#DejaVuSans-51\"/>\n      </g>\n     </g>\n    </g>\n    <g id=\"xtick_4\">\n     <g id=\"line2d_4\">\n      <g>\n       <use style=\"stroke:#000000;stroke-width:0.8;\" x=\"197.503125\" xlink:href=\"#mb8bd8c1eee\" y=\"224.64\"/>\n      </g>\n     </g>\n     <g id=\"text_4\">\n      <!-- 0.4 -->\n      <g transform=\"translate(189.551563 239.238438)scale(0.1 -0.1)\">\n       <defs>\n        <path d=\"M 37.796875 64.3125 \nL 12.890625 25.390625 \nL 37.796875 25.390625 \nz\nM 35.203125 72.90625 \nL 47.609375 72.90625 \nL 47.609375 25.390625 \nL 58.015625 25.390625 \nL 58.015625 17.1875 \nL 47.609375 17.1875 \nL 47.609375 0 \nL 37.796875 0 \nL 37.796875 17.1875 \nL 4.890625 17.1875 \nL 4.890625 26.703125 \nz\n\" id=\"DejaVuSans-52\"/>\n       </defs>\n       <use xlink:href=\"#DejaVuSans-48\"/>\n       <use x=\"63.623047\" xlink:href=\"#DejaVuSans-46\"/>\n       <use x=\"95.410156\" xlink:href=\"#DejaVuSans-52\"/>\n      </g>\n     </g>\n    </g>\n    <g id=\"xtick_5\">\n     <g id=\"line2d_5\">\n      <g>\n       <use style=\"stroke:#000000;stroke-width:0.8;\" x=\"248.230398\" xlink:href=\"#mb8bd8c1eee\" y=\"224.64\"/>\n      </g>\n     </g>\n     <g id=\"text_5\">\n      <!-- 0.5 -->\n      <g transform=\"translate(240.278835 239.238438)scale(0.1 -0.1)\">\n       <defs>\n        <path d=\"M 10.796875 72.90625 \nL 49.515625 72.90625 \nL 49.515625 64.59375 \nL 19.828125 64.59375 \nL 19.828125 46.734375 \nQ 21.96875 47.46875 24.109375 47.828125 \nQ 26.265625 48.1875 28.421875 48.1875 \nQ 40.625 48.1875 47.75 41.5 \nQ 54.890625 34.8125 54.890625 23.390625 \nQ 54.890625 11.625 47.5625 5.09375 \nQ 40.234375 -1.421875 26.90625 -1.421875 \nQ 22.3125 -1.421875 17.546875 -0.640625 \nQ 12.796875 0.140625 7.71875 1.703125 \nL 7.71875 11.625 \nQ 12.109375 9.234375 16.796875 8.0625 \nQ 21.484375 6.890625 26.703125 6.890625 \nQ 35.15625 6.890625 40.078125 11.328125 \nQ 45.015625 15.765625 45.015625 23.390625 \nQ 45.015625 31 40.078125 35.4375 \nQ 35.15625 39.890625 26.703125 39.890625 \nQ 22.75 39.890625 18.8125 39.015625 \nQ 14.890625 38.140625 10.796875 36.28125 \nz\n\" id=\"DejaVuSans-53\"/>\n       </defs>\n       <use xlink:href=\"#DejaVuSans-48\"/>\n       <use x=\"63.623047\" xlink:href=\"#DejaVuSans-46\"/>\n       <use x=\"95.410156\" xlink:href=\"#DejaVuSans-53\"/>\n      </g>\n     </g>\n    </g>\n    <g id=\"xtick_6\">\n     <g id=\"line2d_6\">\n      <g>\n       <use style=\"stroke:#000000;stroke-width:0.8;\" x=\"298.95767\" xlink:href=\"#mb8bd8c1eee\" y=\"224.64\"/>\n      </g>\n     </g>\n     <g id=\"text_6\">\n      <!-- 0.6 -->\n      <g transform=\"translate(291.006108 239.238438)scale(0.1 -0.1)\">\n       <defs>\n        <path d=\"M 33.015625 40.375 \nQ 26.375 40.375 22.484375 35.828125 \nQ 18.609375 31.296875 18.609375 23.390625 \nQ 18.609375 15.53125 22.484375 10.953125 \nQ 26.375 6.390625 33.015625 6.390625 \nQ 39.65625 6.390625 43.53125 10.953125 \nQ 47.40625 15.53125 47.40625 23.390625 \nQ 47.40625 31.296875 43.53125 35.828125 \nQ 39.65625 40.375 33.015625 40.375 \nz\nM 52.59375 71.296875 \nL 52.59375 62.3125 \nQ 48.875 64.0625 45.09375 64.984375 \nQ 41.3125 65.921875 37.59375 65.921875 \nQ 27.828125 65.921875 22.671875 59.328125 \nQ 17.53125 52.734375 16.796875 39.40625 \nQ 19.671875 43.65625 24.015625 45.921875 \nQ 28.375 48.1875 33.59375 48.1875 \nQ 44.578125 48.1875 50.953125 41.515625 \nQ 57.328125 34.859375 57.328125 23.390625 \nQ 57.328125 12.15625 50.6875 5.359375 \nQ 44.046875 -1.421875 33.015625 -1.421875 \nQ 20.359375 -1.421875 13.671875 8.265625 \nQ 6.984375 17.96875 6.984375 36.375 \nQ 6.984375 53.65625 15.1875 63.9375 \nQ 23.390625 74.21875 37.203125 74.21875 \nQ 40.921875 74.21875 44.703125 73.484375 \nQ 48.484375 72.75 52.59375 71.296875 \nz\n\" id=\"DejaVuSans-54\"/>\n       </defs>\n       <use xlink:href=\"#DejaVuSans-48\"/>\n       <use x=\"63.623047\" xlink:href=\"#DejaVuSans-46\"/>\n       <use x=\"95.410156\" xlink:href=\"#DejaVuSans-54\"/>\n      </g>\n     </g>\n    </g>\n    <g id=\"xtick_7\">\n     <g id=\"line2d_7\">\n      <g>\n       <use style=\"stroke:#000000;stroke-width:0.8;\" x=\"349.684943\" xlink:href=\"#mb8bd8c1eee\" y=\"224.64\"/>\n      </g>\n     </g>\n     <g id=\"text_7\">\n      <!-- 0.7 -->\n      <g transform=\"translate(341.733381 239.238438)scale(0.1 -0.1)\">\n       <defs>\n        <path d=\"M 8.203125 72.90625 \nL 55.078125 72.90625 \nL 55.078125 68.703125 \nL 28.609375 0 \nL 18.3125 0 \nL 43.21875 64.59375 \nL 8.203125 64.59375 \nz\n\" id=\"DejaVuSans-55\"/>\n       </defs>\n       <use xlink:href=\"#DejaVuSans-48\"/>\n       <use x=\"63.623047\" xlink:href=\"#DejaVuSans-46\"/>\n       <use x=\"95.410156\" xlink:href=\"#DejaVuSans-55\"/>\n      </g>\n     </g>\n    </g>\n   </g>\n   <g id=\"matplotlib.axis_2\">\n    <g id=\"ytick_1\">\n     <g id=\"line2d_8\">\n      <defs>\n       <path d=\"M 0 0 \nL -3.5 0 \n\" id=\"m0f20a77ecb\" style=\"stroke:#000000;stroke-width:0.8;\"/>\n      </defs>\n      <g>\n       <use style=\"stroke:#000000;stroke-width:0.8;\" x=\"30.103125\" xlink:href=\"#m0f20a77ecb\" y=\"201.582515\"/>\n      </g>\n     </g>\n     <g id=\"text_8\">\n      <!-- 0.4 -->\n      <g transform=\"translate(7.2 205.381734)scale(0.1 -0.1)\">\n       <use xlink:href=\"#DejaVuSans-48\"/>\n       <use x=\"63.623047\" xlink:href=\"#DejaVuSans-46\"/>\n       <use x=\"95.410156\" xlink:href=\"#DejaVuSans-52\"/>\n      </g>\n     </g>\n    </g>\n    <g id=\"ytick_2\">\n     <g id=\"line2d_9\">\n      <g>\n       <use style=\"stroke:#000000;stroke-width:0.8;\" x=\"30.103125\" xlink:href=\"#m0f20a77ecb\" y=\"170.205087\"/>\n      </g>\n     </g>\n     <g id=\"text_9\">\n      <!-- 0.5 -->\n      <g transform=\"translate(7.2 174.004306)scale(0.1 -0.1)\">\n       <use xlink:href=\"#DejaVuSans-48\"/>\n       <use x=\"63.623047\" xlink:href=\"#DejaVuSans-46\"/>\n       <use x=\"95.410156\" xlink:href=\"#DejaVuSans-53\"/>\n      </g>\n     </g>\n    </g>\n    <g id=\"ytick_3\">\n     <g id=\"line2d_10\">\n      <g>\n       <use style=\"stroke:#000000;stroke-width:0.8;\" x=\"30.103125\" xlink:href=\"#m0f20a77ecb\" y=\"138.82766\"/>\n      </g>\n     </g>\n     <g id=\"text_10\">\n      <!-- 0.6 -->\n      <g transform=\"translate(7.2 142.626878)scale(0.1 -0.1)\">\n       <use xlink:href=\"#DejaVuSans-48\"/>\n       <use x=\"63.623047\" xlink:href=\"#DejaVuSans-46\"/>\n       <use x=\"95.410156\" xlink:href=\"#DejaVuSans-54\"/>\n      </g>\n     </g>\n    </g>\n    <g id=\"ytick_4\">\n     <g id=\"line2d_11\">\n      <g>\n       <use style=\"stroke:#000000;stroke-width:0.8;\" x=\"30.103125\" xlink:href=\"#m0f20a77ecb\" y=\"107.450232\"/>\n      </g>\n     </g>\n     <g id=\"text_11\">\n      <!-- 0.7 -->\n      <g transform=\"translate(7.2 111.249451)scale(0.1 -0.1)\">\n       <use xlink:href=\"#DejaVuSans-48\"/>\n       <use x=\"63.623047\" xlink:href=\"#DejaVuSans-46\"/>\n       <use x=\"95.410156\" xlink:href=\"#DejaVuSans-55\"/>\n      </g>\n     </g>\n    </g>\n    <g id=\"ytick_5\">\n     <g id=\"line2d_12\">\n      <g>\n       <use style=\"stroke:#000000;stroke-width:0.8;\" x=\"30.103125\" xlink:href=\"#m0f20a77ecb\" y=\"76.072804\"/>\n      </g>\n     </g>\n     <g id=\"text_12\">\n      <!-- 0.8 -->\n      <g transform=\"translate(7.2 79.872023)scale(0.1 -0.1)\">\n       <defs>\n        <path d=\"M 31.78125 34.625 \nQ 24.75 34.625 20.71875 30.859375 \nQ 16.703125 27.09375 16.703125 20.515625 \nQ 16.703125 13.921875 20.71875 10.15625 \nQ 24.75 6.390625 31.78125 6.390625 \nQ 38.8125 6.390625 42.859375 10.171875 \nQ 46.921875 13.96875 46.921875 20.515625 \nQ 46.921875 27.09375 42.890625 30.859375 \nQ 38.875 34.625 31.78125 34.625 \nz\nM 21.921875 38.8125 \nQ 15.578125 40.375 12.03125 44.71875 \nQ 8.5 49.078125 8.5 55.328125 \nQ 8.5 64.0625 14.71875 69.140625 \nQ 20.953125 74.21875 31.78125 74.21875 \nQ 42.671875 74.21875 48.875 69.140625 \nQ 55.078125 64.0625 55.078125 55.328125 \nQ 55.078125 49.078125 51.53125 44.71875 \nQ 48 40.375 41.703125 38.8125 \nQ 48.828125 37.15625 52.796875 32.3125 \nQ 56.78125 27.484375 56.78125 20.515625 \nQ 56.78125 9.90625 50.3125 4.234375 \nQ 43.84375 -1.421875 31.78125 -1.421875 \nQ 19.734375 -1.421875 13.25 4.234375 \nQ 6.78125 9.90625 6.78125 20.515625 \nQ 6.78125 27.484375 10.78125 32.3125 \nQ 14.796875 37.15625 21.921875 38.8125 \nz\nM 18.3125 54.390625 \nQ 18.3125 48.734375 21.84375 45.5625 \nQ 25.390625 42.390625 31.78125 42.390625 \nQ 38.140625 42.390625 41.71875 45.5625 \nQ 45.3125 48.734375 45.3125 54.390625 \nQ 45.3125 60.0625 41.71875 63.234375 \nQ 38.140625 66.40625 31.78125 66.40625 \nQ 25.390625 66.40625 21.84375 63.234375 \nQ 18.3125 60.0625 18.3125 54.390625 \nz\n\" id=\"DejaVuSans-56\"/>\n       </defs>\n       <use xlink:href=\"#DejaVuSans-48\"/>\n       <use x=\"63.623047\" xlink:href=\"#DejaVuSans-46\"/>\n       <use x=\"95.410156\" xlink:href=\"#DejaVuSans-56\"/>\n      </g>\n     </g>\n    </g>\n    <g id=\"ytick_6\">\n     <g id=\"line2d_13\">\n      <g>\n       <use style=\"stroke:#000000;stroke-width:0.8;\" x=\"30.103125\" xlink:href=\"#m0f20a77ecb\" y=\"44.695376\"/>\n      </g>\n     </g>\n     <g id=\"text_13\">\n      <!-- 0.9 -->\n      <g transform=\"translate(7.2 48.494595)scale(0.1 -0.1)\">\n       <defs>\n        <path d=\"M 10.984375 1.515625 \nL 10.984375 10.5 \nQ 14.703125 8.734375 18.5 7.8125 \nQ 22.3125 6.890625 25.984375 6.890625 \nQ 35.75 6.890625 40.890625 13.453125 \nQ 46.046875 20.015625 46.78125 33.40625 \nQ 43.953125 29.203125 39.59375 26.953125 \nQ 35.25 24.703125 29.984375 24.703125 \nQ 19.046875 24.703125 12.671875 31.3125 \nQ 6.296875 37.9375 6.296875 49.421875 \nQ 6.296875 60.640625 12.9375 67.421875 \nQ 19.578125 74.21875 30.609375 74.21875 \nQ 43.265625 74.21875 49.921875 64.515625 \nQ 56.59375 54.828125 56.59375 36.375 \nQ 56.59375 19.140625 48.40625 8.859375 \nQ 40.234375 -1.421875 26.421875 -1.421875 \nQ 22.703125 -1.421875 18.890625 -0.6875 \nQ 15.09375 0.046875 10.984375 1.515625 \nz\nM 30.609375 32.421875 \nQ 37.25 32.421875 41.125 36.953125 \nQ 45.015625 41.5 45.015625 49.421875 \nQ 45.015625 57.28125 41.125 61.84375 \nQ 37.25 66.40625 30.609375 66.40625 \nQ 23.96875 66.40625 20.09375 61.84375 \nQ 16.21875 57.28125 16.21875 49.421875 \nQ 16.21875 41.5 20.09375 36.953125 \nQ 23.96875 32.421875 30.609375 32.421875 \nz\n\" id=\"DejaVuSans-57\"/>\n       </defs>\n       <use xlink:href=\"#DejaVuSans-48\"/>\n       <use x=\"63.623047\" xlink:href=\"#DejaVuSans-46\"/>\n       <use x=\"95.410156\" xlink:href=\"#DejaVuSans-57\"/>\n      </g>\n     </g>\n    </g>\n    <g id=\"ytick_7\">\n     <g id=\"line2d_14\">\n      <g>\n       <use style=\"stroke:#000000;stroke-width:0.8;\" x=\"30.103125\" xlink:href=\"#m0f20a77ecb\" y=\"13.317948\"/>\n      </g>\n     </g>\n     <g id=\"text_14\">\n      <!-- 1.0 -->\n      <g transform=\"translate(7.2 17.117167)scale(0.1 -0.1)\">\n       <use xlink:href=\"#DejaVuSans-49\"/>\n       <use x=\"63.623047\" xlink:href=\"#DejaVuSans-46\"/>\n       <use x=\"95.410156\" xlink:href=\"#DejaVuSans-48\"/>\n      </g>\n     </g>\n    </g>\n   </g>\n   <g id=\"line2d_15\">\n    <path clip-path=\"url(#p86c2094f75)\" d=\"M 45.321307 36.549156 \nL 146.775852 33.843334 \nL 248.230398 31.07968 \nL 349.684943 29.036921 \n\" style=\"fill:none;stroke:#1f77b4;stroke-linecap:square;stroke-width:1.5;\"/>\n   </g>\n   <g id=\"line2d_16\">\n    <path clip-path=\"url(#p86c2094f75)\" d=\"M 45.321307 214.756364 \nL 146.775852 73.7952 \nL 248.230398 46.35366 \nL 349.684943 36.095941 \n\" style=\"fill:none;stroke:#ff7f0e;stroke-linecap:square;stroke-width:1.5;\"/>\n   </g>\n   <g id=\"line2d_17\">\n    <path clip-path=\"url(#p86c2094f75)\" d=\"M 45.321307 43.185383 \nL 146.775852 22.4823 \nL 248.230398 18.623331 \nL 349.684943 17.083636 \n\" style=\"fill:none;stroke:#2ca02c;stroke-linecap:square;stroke-width:1.5;\"/>\n   </g>\n   <g id=\"patch_3\">\n    <path d=\"M 30.103125 224.64 \nL 30.103125 7.2 \n\" style=\"fill:none;stroke:#000000;stroke-linecap:square;stroke-linejoin:miter;stroke-width:0.8;\"/>\n   </g>\n   <g id=\"patch_4\">\n    <path d=\"M 364.903125 224.64 \nL 364.903125 7.2 \n\" style=\"fill:none;stroke:#000000;stroke-linecap:square;stroke-linejoin:miter;stroke-width:0.8;\"/>\n   </g>\n   <g id=\"patch_5\">\n    <path d=\"M 30.103125 224.64 \nL 364.903125 224.64 \n\" style=\"fill:none;stroke:#000000;stroke-linecap:square;stroke-linejoin:miter;stroke-width:0.8;\"/>\n   </g>\n   <g id=\"patch_6\">\n    <path d=\"M 30.103125 7.2 \nL 364.903125 7.2 \n\" style=\"fill:none;stroke:#000000;stroke-linecap:square;stroke-linejoin:miter;stroke-width:0.8;\"/>\n   </g>\n   <g id=\"legend_1\">\n    <g id=\"patch_7\">\n     <path d=\"M 274.478125 219.64 \nL 357.903125 219.64 \nQ 359.903125 219.64 359.903125 217.64 \nL 359.903125 173.77125 \nQ 359.903125 171.77125 357.903125 171.77125 \nL 274.478125 171.77125 \nQ 272.478125 171.77125 272.478125 173.77125 \nL 272.478125 217.64 \nQ 272.478125 219.64 274.478125 219.64 \nz\n\" style=\"fill:#ffffff;opacity:0.8;stroke:#cccccc;stroke-linejoin:miter;\"/>\n    </g>\n    <g id=\"line2d_18\">\n     <path d=\"M 276.478125 179.869687 \nL 296.478125 179.869687 \n\" style=\"fill:none;stroke:#1f77b4;stroke-linecap:square;stroke-width:1.5;\"/>\n    </g>\n    <g id=\"line2d_19\"/>\n    <g id=\"text_15\">\n     <!-- test_acc -->\n     <g transform=\"translate(304.478125 183.369687)scale(0.1 -0.1)\">\n      <defs>\n       <path d=\"M 18.3125 70.21875 \nL 18.3125 54.6875 \nL 36.8125 54.6875 \nL 36.8125 47.703125 \nL 18.3125 47.703125 \nL 18.3125 18.015625 \nQ 18.3125 11.328125 20.140625 9.421875 \nQ 21.96875 7.515625 27.59375 7.515625 \nL 36.8125 7.515625 \nL 36.8125 0 \nL 27.59375 0 \nQ 17.1875 0 13.234375 3.875 \nQ 9.28125 7.765625 9.28125 18.015625 \nL 9.28125 47.703125 \nL 2.6875 47.703125 \nL 2.6875 54.6875 \nL 9.28125 54.6875 \nL 9.28125 70.21875 \nz\n\" id=\"DejaVuSans-116\"/>\n       <path d=\"M 56.203125 29.59375 \nL 56.203125 25.203125 \nL 14.890625 25.203125 \nQ 15.484375 15.921875 20.484375 11.0625 \nQ 25.484375 6.203125 34.421875 6.203125 \nQ 39.59375 6.203125 44.453125 7.46875 \nQ 49.3125 8.734375 54.109375 11.28125 \nL 54.109375 2.78125 \nQ 49.265625 0.734375 44.1875 -0.34375 \nQ 39.109375 -1.421875 33.890625 -1.421875 \nQ 20.796875 -1.421875 13.15625 6.1875 \nQ 5.515625 13.8125 5.515625 26.8125 \nQ 5.515625 40.234375 12.765625 48.109375 \nQ 20.015625 56 32.328125 56 \nQ 43.359375 56 49.78125 48.890625 \nQ 56.203125 41.796875 56.203125 29.59375 \nz\nM 47.21875 32.234375 \nQ 47.125 39.59375 43.09375 43.984375 \nQ 39.0625 48.390625 32.421875 48.390625 \nQ 24.90625 48.390625 20.390625 44.140625 \nQ 15.875 39.890625 15.1875 32.171875 \nz\n\" id=\"DejaVuSans-101\"/>\n       <path d=\"M 44.28125 53.078125 \nL 44.28125 44.578125 \nQ 40.484375 46.53125 36.375 47.5 \nQ 32.28125 48.484375 27.875 48.484375 \nQ 21.1875 48.484375 17.84375 46.4375 \nQ 14.5 44.390625 14.5 40.28125 \nQ 14.5 37.15625 16.890625 35.375 \nQ 19.28125 33.59375 26.515625 31.984375 \nL 29.59375 31.296875 \nQ 39.15625 29.25 43.1875 25.515625 \nQ 47.21875 21.78125 47.21875 15.09375 \nQ 47.21875 7.46875 41.1875 3.015625 \nQ 35.15625 -1.421875 24.609375 -1.421875 \nQ 20.21875 -1.421875 15.453125 -0.5625 \nQ 10.6875 0.296875 5.421875 2 \nL 5.421875 11.28125 \nQ 10.40625 8.6875 15.234375 7.390625 \nQ 20.0625 6.109375 24.8125 6.109375 \nQ 31.15625 6.109375 34.5625 8.28125 \nQ 37.984375 10.453125 37.984375 14.40625 \nQ 37.984375 18.0625 35.515625 20.015625 \nQ 33.0625 21.96875 24.703125 23.78125 \nL 21.578125 24.515625 \nQ 13.234375 26.265625 9.515625 29.90625 \nQ 5.8125 33.546875 5.8125 39.890625 \nQ 5.8125 47.609375 11.28125 51.796875 \nQ 16.75 56 26.8125 56 \nQ 31.78125 56 36.171875 55.265625 \nQ 40.578125 54.546875 44.28125 53.078125 \nz\n\" id=\"DejaVuSans-115\"/>\n       <path d=\"M 50.984375 -16.609375 \nL 50.984375 -23.578125 \nL -0.984375 -23.578125 \nL -0.984375 -16.609375 \nz\n\" id=\"DejaVuSans-95\"/>\n       <path d=\"M 34.28125 27.484375 \nQ 23.390625 27.484375 19.1875 25 \nQ 14.984375 22.515625 14.984375 16.5 \nQ 14.984375 11.71875 18.140625 8.90625 \nQ 21.296875 6.109375 26.703125 6.109375 \nQ 34.1875 6.109375 38.703125 11.40625 \nQ 43.21875 16.703125 43.21875 25.484375 \nL 43.21875 27.484375 \nz\nM 52.203125 31.203125 \nL 52.203125 0 \nL 43.21875 0 \nL 43.21875 8.296875 \nQ 40.140625 3.328125 35.546875 0.953125 \nQ 30.953125 -1.421875 24.3125 -1.421875 \nQ 15.921875 -1.421875 10.953125 3.296875 \nQ 6 8.015625 6 15.921875 \nQ 6 25.140625 12.171875 29.828125 \nQ 18.359375 34.515625 30.609375 34.515625 \nL 43.21875 34.515625 \nL 43.21875 35.40625 \nQ 43.21875 41.609375 39.140625 45 \nQ 35.0625 48.390625 27.6875 48.390625 \nQ 23 48.390625 18.546875 47.265625 \nQ 14.109375 46.140625 10.015625 43.890625 \nL 10.015625 52.203125 \nQ 14.9375 54.109375 19.578125 55.046875 \nQ 24.21875 56 28.609375 56 \nQ 40.484375 56 46.34375 49.84375 \nQ 52.203125 43.703125 52.203125 31.203125 \nz\n\" id=\"DejaVuSans-97\"/>\n       <path d=\"M 48.78125 52.59375 \nL 48.78125 44.1875 \nQ 44.96875 46.296875 41.140625 47.34375 \nQ 37.3125 48.390625 33.40625 48.390625 \nQ 24.65625 48.390625 19.8125 42.84375 \nQ 14.984375 37.3125 14.984375 27.296875 \nQ 14.984375 17.28125 19.8125 11.734375 \nQ 24.65625 6.203125 33.40625 6.203125 \nQ 37.3125 6.203125 41.140625 7.25 \nQ 44.96875 8.296875 48.78125 10.40625 \nL 48.78125 2.09375 \nQ 45.015625 0.34375 40.984375 -0.53125 \nQ 36.96875 -1.421875 32.421875 -1.421875 \nQ 20.0625 -1.421875 12.78125 6.34375 \nQ 5.515625 14.109375 5.515625 27.296875 \nQ 5.515625 40.671875 12.859375 48.328125 \nQ 20.21875 56 33.015625 56 \nQ 37.15625 56 41.109375 55.140625 \nQ 45.0625 54.296875 48.78125 52.59375 \nz\n\" id=\"DejaVuSans-99\"/>\n      </defs>\n      <use xlink:href=\"#DejaVuSans-116\"/>\n      <use x=\"39.208984\" xlink:href=\"#DejaVuSans-101\"/>\n      <use x=\"100.732422\" xlink:href=\"#DejaVuSans-115\"/>\n      <use x=\"152.832031\" xlink:href=\"#DejaVuSans-116\"/>\n      <use x=\"192.041016\" xlink:href=\"#DejaVuSans-95\"/>\n      <use x=\"242.041016\" xlink:href=\"#DejaVuSans-97\"/>\n      <use x=\"303.320312\" xlink:href=\"#DejaVuSans-99\"/>\n      <use x=\"358.300781\" xlink:href=\"#DejaVuSans-99\"/>\n     </g>\n    </g>\n    <g id=\"line2d_20\">\n     <path d=\"M 276.478125 194.825938 \nL 296.478125 194.825938 \n\" style=\"fill:none;stroke:#ff7f0e;stroke-linecap:square;stroke-width:1.5;\"/>\n    </g>\n    <g id=\"line2d_21\"/>\n    <g id=\"text_16\">\n     <!-- test_recall -->\n     <g transform=\"translate(304.478125 198.325938)scale(0.1 -0.1)\">\n      <defs>\n       <path d=\"M 41.109375 46.296875 \nQ 39.59375 47.171875 37.8125 47.578125 \nQ 36.03125 48 33.890625 48 \nQ 26.265625 48 22.1875 43.046875 \nQ 18.109375 38.09375 18.109375 28.8125 \nL 18.109375 0 \nL 9.078125 0 \nL 9.078125 54.6875 \nL 18.109375 54.6875 \nL 18.109375 46.1875 \nQ 20.953125 51.171875 25.484375 53.578125 \nQ 30.03125 56 36.53125 56 \nQ 37.453125 56 38.578125 55.875 \nQ 39.703125 55.765625 41.0625 55.515625 \nz\n\" id=\"DejaVuSans-114\"/>\n       <path d=\"M 9.421875 75.984375 \nL 18.40625 75.984375 \nL 18.40625 0 \nL 9.421875 0 \nz\n\" id=\"DejaVuSans-108\"/>\n      </defs>\n      <use xlink:href=\"#DejaVuSans-116\"/>\n      <use x=\"39.208984\" xlink:href=\"#DejaVuSans-101\"/>\n      <use x=\"100.732422\" xlink:href=\"#DejaVuSans-115\"/>\n      <use x=\"152.832031\" xlink:href=\"#DejaVuSans-116\"/>\n      <use x=\"192.041016\" xlink:href=\"#DejaVuSans-95\"/>\n      <use x=\"242.041016\" xlink:href=\"#DejaVuSans-114\"/>\n      <use x=\"280.904297\" xlink:href=\"#DejaVuSans-101\"/>\n      <use x=\"342.427734\" xlink:href=\"#DejaVuSans-99\"/>\n      <use x=\"397.408203\" xlink:href=\"#DejaVuSans-97\"/>\n      <use x=\"458.6875\" xlink:href=\"#DejaVuSans-108\"/>\n      <use x=\"486.470703\" xlink:href=\"#DejaVuSans-108\"/>\n     </g>\n    </g>\n    <g id=\"line2d_22\">\n     <path d=\"M 276.478125 209.782187 \nL 296.478125 209.782187 \n\" style=\"fill:none;stroke:#2ca02c;stroke-linecap:square;stroke-width:1.5;\"/>\n    </g>\n    <g id=\"line2d_23\"/>\n    <g id=\"text_17\">\n     <!-- test_auc -->\n     <g transform=\"translate(304.478125 213.282187)scale(0.1 -0.1)\">\n      <defs>\n       <path d=\"M 8.5 21.578125 \nL 8.5 54.6875 \nL 17.484375 54.6875 \nL 17.484375 21.921875 \nQ 17.484375 14.15625 20.5 10.265625 \nQ 23.53125 6.390625 29.59375 6.390625 \nQ 36.859375 6.390625 41.078125 11.03125 \nQ 45.3125 15.671875 45.3125 23.6875 \nL 45.3125 54.6875 \nL 54.296875 54.6875 \nL 54.296875 0 \nL 45.3125 0 \nL 45.3125 8.40625 \nQ 42.046875 3.421875 37.71875 1 \nQ 33.40625 -1.421875 27.6875 -1.421875 \nQ 18.265625 -1.421875 13.375 4.4375 \nQ 8.5 10.296875 8.5 21.578125 \nz\nM 31.109375 56 \nz\n\" id=\"DejaVuSans-117\"/>\n      </defs>\n      <use xlink:href=\"#DejaVuSans-116\"/>\n      <use x=\"39.208984\" xlink:href=\"#DejaVuSans-101\"/>\n      <use x=\"100.732422\" xlink:href=\"#DejaVuSans-115\"/>\n      <use x=\"152.832031\" xlink:href=\"#DejaVuSans-116\"/>\n      <use x=\"192.041016\" xlink:href=\"#DejaVuSans-95\"/>\n      <use x=\"242.041016\" xlink:href=\"#DejaVuSans-97\"/>\n      <use x=\"303.320312\" xlink:href=\"#DejaVuSans-117\"/>\n      <use x=\"366.699219\" xlink:href=\"#DejaVuSans-99\"/>\n     </g>\n    </g>\n   </g>\n  </g>\n </g>\n <defs>\n  <clipPath id=\"p86c2094f75\">\n   <rect height=\"217.44\" width=\"334.8\" x=\"30.103125\" y=\"7.2\"/>\n  </clipPath>\n </defs>\n</svg>\n",
      "text/plain": "<Figure size 432x288 with 1 Axes>"
     },
     "metadata": {
      "needs_background": "light"
     },
     "output_type": "display_data"
    }
   ],
   "source": [
    "metric_df.plot.line()"
   ]
  },
  {
   "cell_type": "code",
   "execution_count": 87,
   "metadata": {},
   "outputs": [
    {
     "name": "stdout",
     "output_type": "stream",
     "text": [
      "fit_time 17.644864857196808\nscore_time 0.06098431348800659\ntest_acc 0.9464045203983634\ntest_recall 0.7930042735042735\ntest_auc 0.9715686590549314\n"
     ]
    }
   ],
   "source": [
    "# define the model\n",
    "model = XGBClassifier(n_estimators=50)\n",
    "\n",
    "#overfit the target label\n",
    "over = SVMSMOTE(sampling_strategy=0.2)\n",
    "X_res, y_res = over.fit_resample(X_imp_st, y)\n",
    "\n",
    "# define the evaluation method\n",
    "cv = RepeatedStratifiedKFold(n_splits=10, n_repeats=2, random_state=1)\n",
    "\n",
    "#scoring params\n",
    "scoring = {'acc': 'accuracy',\n",
    "           'recall': 'recall',\n",
    "           'auc': 'roc_auc'}\n",
    "\n",
    "# evaluate the model on the dataset\n",
    "n_scores = cross_validate(model, X_res, y_res, scoring=scoring, cv=cv, n_jobs=-1, return_train_score= False)\n",
    "\n",
    "# report performance\n",
    "for key, value in n_scores.items():\n",
    "    print(key, mean(value))"
   ]
  },
  {
   "cell_type": "code",
   "execution_count": 74,
   "metadata": {},
   "outputs": [
    {
     "name": "stdout",
     "output_type": "stream",
     "text": [
      "fit_time 20.462152087688445\nscore_time 0.07071489095687866\ntest_acc 0.9350223404606114\ntest_recall 0.8156720477664751\ntest_auc 0.9714331789230787\n"
     ]
    }
   ],
   "source": [
    "# define the model\n",
    "model = XGBClassifier(n_estimators=50)\n",
    "\n",
    "#overfit the target label\n",
    "over = BorderlineSMOTE(sampling_strategy=0.3)\n",
    "X_res, y_res = over.fit_resample(X_imp, y)\n",
    "\n",
    "# define the evaluation method\n",
    "cv = RepeatedStratifiedKFold(n_splits=10, n_repeats=2, random_state=1)\n",
    "\n",
    "#scoring params\n",
    "scoring = {'acc': 'accuracy',\n",
    "           'recall': 'recall',\n",
    "           'auc': 'roc_auc'}\n",
    "\n",
    "# evaluate the model on the dataset\n",
    "n_scores = cross_validate(model, X_res, y_res, scoring=scoring, cv=cv, n_jobs=-1, return_train_score= False)\n",
    "\n",
    "# report performance\n",
    "for key, value in n_scores.items():\n",
    "    print(key, mean(value))"
   ]
  },
  {
   "cell_type": "code",
   "execution_count": 75,
   "metadata": {},
   "outputs": [
    {
     "name": "stdout",
     "output_type": "stream",
     "text": [
      "fit_time 25.17716989517212\nscore_time 0.10999076366424561\ntest_acc 0.9348383722280594\ntest_recall 0.8225130777806362\ntest_auc 0.9743761433121435\n"
     ]
    }
   ],
   "source": [
    "\n",
    "# define the model\n",
    "model = XGBClassifier(n_estimators=50)\n",
    "\n",
    "#overfit the target label\n",
    "over = ADASYN(sampling_strategy=0.3)\n",
    "X_res, y_res = over.fit_resample(X_imp, y)\n",
    "\n",
    "# define the evaluation method\n",
    "cv = RepeatedStratifiedKFold(n_splits=10, n_repeats=2, random_state=1)\n",
    "\n",
    "#scoring params\n",
    "scoring = {'acc': 'accuracy',\n",
    "           'recall': 'recall',\n",
    "           'auc': 'roc_auc'}\n",
    "\n",
    "# evaluate the model on the dataset\n",
    "n_scores = cross_validate(model, X_res, y_res, scoring=scoring, cv=cv, n_jobs=-1, return_train_score= False)\n",
    "\n",
    "# report performance\n",
    "for key, value in n_scores.items():\n",
    "    print(key, mean(value))"
   ]
  },
  {
   "cell_type": "markdown",
   "metadata": {},
   "source": [
    "Feature engineering"
   ]
  },
  {
   "cell_type": "code",
   "execution_count": 128,
   "metadata": {},
   "outputs": [
    {
     "name": "stderr",
     "output_type": "stream",
     "text": [
      "/Library/Frameworks/Python.framework/Versions/3.8/lib/python3.8/site-packages/xgboost/sklearn.py:1146: UserWarning: The use of label encoder in XGBClassifier is deprecated and will be removed in a future release. To remove this warning, do the following: 1) Pass option use_label_encoder=False when constructing XGBClassifier object; and 2) Encode your labels (y) as integers starting with 0, i.e. 0, 1, 2, ..., [num_class - 1].\n",
      "  warnings.warn(label_encoder_deprecation_msg, UserWarning)\n",
      "[01:17:48] WARNING: /Users/travis/build/dmlc/xgboost/src/learner.cc:1095: Starting in XGBoost 1.3.0, the default evaluation metric used with the objective 'binary:logistic' was changed from 'error' to 'logloss'. Explicitly set eval_metric if you'd like to restore the old behavior.\n"
     ]
    },
    {
     "data": {
      "text/plain": [
       "{'LeagueInvolved': 0.067118734,\n",
       " 'CorrMarketValue': 0.08946462,\n",
       " 'Age': 0.020768736,\n",
       " 'Country': 0.037343197,\n",
       " 'Position': 0.015360456,\n",
       " 'Foot': 0.025663506,\n",
       " 'IntReputation': 0.017990874,\n",
       " 'Crossing': 0.014249209,\n",
       " 'Finishing': 0.016765617,\n",
       " 'Heading_accuracy': 0.016924214,\n",
       " 'Short_passing': 0.015888643,\n",
       " 'Volleys': 0.016110197,\n",
       " 'Dribbling': 0.0157936,\n",
       " 'Curve': 0.015834494,\n",
       " 'FK_accuracy': 0.012066446,\n",
       " 'Long_passing': 0.016167467,\n",
       " 'Ball_control': 0.015590802,\n",
       " 'Acceleration': 0.013054718,\n",
       " 'Sprint_speed': 0.014245867,\n",
       " 'Agility': 0.013111219,\n",
       " 'Reactions': 0.012711993,\n",
       " 'Balance': 0.015764054,\n",
       " 'Shot_power': 0.013531177,\n",
       " 'Jumping': 0.016211119,\n",
       " 'Stamina': 0.015930336,\n",
       " 'Strength': 0.012710304,\n",
       " 'Long_shots': 0.015892388,\n",
       " 'Aggression': 0.011847685,\n",
       " 'Interceptions': 0.014161402,\n",
       " 'Positioning': 0.011976618,\n",
       " 'Vision': 0.012290878,\n",
       " 'Penalties': 0.013726618,\n",
       " 'Composure': 0.013586591,\n",
       " 'Marking': 0.015367403,\n",
       " 'Standing_tackle': 0.014867902,\n",
       " 'Sliding_tackle': 0.015652124,\n",
       " 'GK_diving': 0.013607127,\n",
       " 'GK_handling': 0.011362258,\n",
       " 'GK_kicking': 0.016766505,\n",
       " 'GK_positioning': 0.018347744,\n",
       " 'GK_reflexes': 0.015605179,\n",
       " 'Years': 0.016059084,\n",
       " 'DEGREE': 0.047757756,\n",
       " 'Eigv': 0.01905091,\n",
       " 'SP_LA_LIGA': 0.022171857,\n",
       " 'EN_PL': 0.03505361,\n",
       " 'IT_SERIE_A': 0.037181742,\n",
       " 'FR_LIGUE_1': 0.025598852,\n",
       " 'GE_BUNDESLIGA': 0.025696134}"
      ]
     },
     "execution_count": 128,
     "metadata": {},
     "output_type": "execute_result"
    }
   ],
   "source": [
    "model = XGBClassifier(n_estimators=50)\n",
    "m = model.fit(X_imp, y)\n",
    "zip_iterator = zip(list(X_imp.columns), m.feature_importances_)\n",
    "feature_dict = dict(zip_iterator)\n",
    "feature_dict"
   ]
  },
  {
   "cell_type": "code",
   "execution_count": 129,
   "metadata": {},
   "outputs": [
    {
     "data": {
      "text/plain": [
       "{'CorrMarketValue': 0.08946462,\n",
       " 'LeagueInvolved': 0.067118734,\n",
       " 'DEGREE': 0.047757756,\n",
       " 'Country': 0.037343197,\n",
       " 'IT_SERIE_A': 0.037181742,\n",
       " 'EN_PL': 0.03505361,\n",
       " 'GE_BUNDESLIGA': 0.025696134,\n",
       " 'Foot': 0.025663506,\n",
       " 'FR_LIGUE_1': 0.025598852,\n",
       " 'SP_LA_LIGA': 0.022171857,\n",
       " 'Age': 0.020768736,\n",
       " 'Eigv': 0.01905091,\n",
       " 'GK_positioning': 0.018347744,\n",
       " 'IntReputation': 0.017990874,\n",
       " 'Heading_accuracy': 0.016924214,\n",
       " 'GK_kicking': 0.016766505,\n",
       " 'Finishing': 0.016765617,\n",
       " 'Jumping': 0.016211119,\n",
       " 'Long_passing': 0.016167467,\n",
       " 'Volleys': 0.016110197,\n",
       " 'Years': 0.016059084,\n",
       " 'Stamina': 0.015930336,\n",
       " 'Long_shots': 0.015892388,\n",
       " 'Short_passing': 0.015888643,\n",
       " 'Curve': 0.015834494,\n",
       " 'Dribbling': 0.0157936,\n",
       " 'Balance': 0.015764054,\n",
       " 'Sliding_tackle': 0.015652124,\n",
       " 'GK_reflexes': 0.015605179,\n",
       " 'Ball_control': 0.015590802,\n",
       " 'Marking': 0.015367403,\n",
       " 'Position': 0.015360456,\n",
       " 'Standing_tackle': 0.014867902,\n",
       " 'Crossing': 0.014249209,\n",
       " 'Sprint_speed': 0.014245867,\n",
       " 'Interceptions': 0.014161402,\n",
       " 'Penalties': 0.013726618,\n",
       " 'GK_diving': 0.013607127,\n",
       " 'Composure': 0.013586591,\n",
       " 'Shot_power': 0.013531177,\n",
       " 'Agility': 0.013111219,\n",
       " 'Acceleration': 0.013054718,\n",
       " 'Reactions': 0.012711993,\n",
       " 'Strength': 0.012710304,\n",
       " 'Vision': 0.012290878,\n",
       " 'FK_accuracy': 0.012066446,\n",
       " 'Positioning': 0.011976618,\n",
       " 'Aggression': 0.011847685,\n",
       " 'GK_handling': 0.011362258}"
      ]
     },
     "execution_count": 129,
     "metadata": {},
     "output_type": "execute_result"
    }
   ],
   "source": [
    "dict( sorted(feature_dict.items(), key=operator.itemgetter(1),reverse=True))"
   ]
  },
  {
   "cell_type": "code",
   "execution_count": 154,
   "metadata": {},
   "outputs": [
    {
     "name": "stdout",
     "output_type": "stream",
     "text": [
      "fit_time 44.78804522752762\nscore_time 0.12960200309753417\ntest_acc 0.9257358069236318\ntest_recall 0.35240869144561804\ntest_auc 0.9032457839546767\n"
     ]
    }
   ],
   "source": [
    "# define the model\n",
    "model = XGBClassifier(n_estimators=50)\n",
    "\n",
    "rfe = RFE(estimator=DecisionTreeClassifier(), n_features_to_select=40)\n",
    "pipeline = Pipeline(steps=[('s',rfe),('m',model)])\n",
    "\n",
    "# define the evaluation method\n",
    "cv = RepeatedStratifiedKFold(n_splits=10, n_repeats=2, random_state=1)\n",
    "\n",
    "#scoring params\n",
    "scoring = {'acc': 'accuracy',\n",
    "           'recall': 'recall',\n",
    "           'auc': 'roc_auc'}\n",
    "\n",
    "# evaluate the model on the dataset\n",
    "n_scores = cross_validate(pipeline, X_imp, y, scoring=scoring, cv=cv, n_jobs=-1, return_train_score= False)\n",
    "\n",
    "# report performance\n",
    "for key, value in n_scores.items():\n",
    "    print(key, mean(value))"
   ]
  },
  {
   "cell_type": "code",
   "execution_count": 140,
   "metadata": {},
   "outputs": [
    {
     "name": "stderr",
     "output_type": "stream",
     "text": [
      "/Library/Frameworks/Python.framework/Versions/3.8/lib/python3.8/site-packages/xgboost/sklearn.py:1146: UserWarning: The use of label encoder in XGBClassifier is deprecated and will be removed in a future release. To remove this warning, do the following: 1) Pass option use_label_encoder=False when constructing XGBClassifier object; and 2) Encode your labels (y) as integers starting with 0, i.e. 0, 1, 2, ..., [num_class - 1].\n",
      "  warnings.warn(label_encoder_deprecation_msg, UserWarning)\n",
      "[06:16:44] WARNING: /Users/travis/build/dmlc/xgboost/src/learner.cc:1095: Starting in XGBoost 1.3.0, the default evaluation metric used with the objective 'binary:logistic' was changed from 'error' to 'logloss'. Explicitly set eval_metric if you'd like to restore the old behavior.\n",
      "Best: 0.915625 using {'learning_rate': 0.01, 'max_depth': 12, 'n_estimators': 500, 'subsample': 0.7}\n"
     ]
    }
   ],
   "source": [
    "# define the model with default hyperparameters\n",
    "model = XGBClassifier()\n",
    "# define the grid of values to search\n",
    "grid = dict()\n",
    "grid['n_estimators'] = [500]\n",
    "grid['learning_rate'] = [0.01, 0.1, 1.0]\n",
    "grid['subsample'] = [0.4, 0.7, 1]\n",
    "#grid['max_features'] = [10, 20, 30]\n",
    "grid['max_depth'] = [6, 9, 12]\n",
    "#scoring params\n",
    "scoring = {'acc': 'accuracy',\n",
    "           'recall': 'recall',\n",
    "           'auc': 'roc_auc'}\n",
    "# define the evaluation procedure\n",
    "cv = RepeatedStratifiedKFold(n_splits=10, n_repeats=2, random_state=1)\n",
    "# define the grid search procedure\n",
    "grid_search = GridSearchCV(estimator=model, param_grid=grid, n_jobs=-1, cv=cv, scoring=scoring, refit='auc')\n",
    "# execute the grid search\n",
    "grid_result = grid_search.fit(X_imp, y)\n",
    "# summarize the best score and configuration\n",
    "print(\"Best: %f using %s\" % (grid_result.best_score_, grid_result.best_params_))"
   ]
  },
  {
   "cell_type": "code",
   "execution_count": 141,
   "metadata": {},
   "outputs": [
    {
     "data": {
      "text/html": "<div>\n<style scoped>\n    .dataframe tbody tr th:only-of-type {\n        vertical-align: middle;\n    }\n\n    .dataframe tbody tr th {\n        vertical-align: top;\n    }\n\n    .dataframe thead th {\n        text-align: right;\n    }\n</style>\n<table border=\"1\" class=\"dataframe\">\n  <thead>\n    <tr style=\"text-align: right;\">\n      <th></th>\n      <th>params</th>\n      <th>mean_test_acc</th>\n      <th>mean_test_recall</th>\n      <th>mean_test_auc</th>\n    </tr>\n  </thead>\n  <tbody>\n    <tr>\n      <th>0</th>\n      <td>{'learning_rate': 0.01, 'max_depth': 6, 'n_est...</td>\n      <td>0.927342</td>\n      <td>0.308409</td>\n      <td>0.910065</td>\n    </tr>\n    <tr>\n      <th>1</th>\n      <td>{'learning_rate': 0.01, 'max_depth': 6, 'n_est...</td>\n      <td>0.927285</td>\n      <td>0.306829</td>\n      <td>0.911585</td>\n    </tr>\n    <tr>\n      <th>2</th>\n      <td>{'learning_rate': 0.01, 'max_depth': 6, 'n_est...</td>\n      <td>0.926396</td>\n      <td>0.299534</td>\n      <td>0.908115</td>\n    </tr>\n    <tr>\n      <th>3</th>\n      <td>{'learning_rate': 0.01, 'max_depth': 9, 'n_est...</td>\n      <td>0.928117</td>\n      <td>0.318866</td>\n      <td>0.912465</td>\n    </tr>\n    <tr>\n      <th>4</th>\n      <td>{'learning_rate': 0.01, 'max_depth': 9, 'n_est...</td>\n      <td>0.928633</td>\n      <td>0.331216</td>\n      <td>0.914968</td>\n    </tr>\n    <tr>\n      <th>5</th>\n      <td>{'learning_rate': 0.01, 'max_depth': 9, 'n_est...</td>\n      <td>0.928317</td>\n      <td>0.341974</td>\n      <td>0.911415</td>\n    </tr>\n    <tr>\n      <th>6</th>\n      <td>{'learning_rate': 0.01, 'max_depth': 12, 'n_es...</td>\n      <td>0.928404</td>\n      <td>0.316006</td>\n      <td>0.913027</td>\n    </tr>\n    <tr>\n      <th>7</th>\n      <td>{'learning_rate': 0.01, 'max_depth': 12, 'n_es...</td>\n      <td>0.929666</td>\n      <td>0.337541</td>\n      <td>0.915625</td>\n    </tr>\n    <tr>\n      <th>8</th>\n      <td>{'learning_rate': 0.01, 'max_depth': 12, 'n_es...</td>\n      <td>0.928920</td>\n      <td>0.351473</td>\n      <td>0.911197</td>\n    </tr>\n    <tr>\n      <th>9</th>\n      <td>{'learning_rate': 0.1, 'max_depth': 6, 'n_esti...</td>\n      <td>0.925908</td>\n      <td>0.369844</td>\n      <td>0.904756</td>\n    </tr>\n    <tr>\n      <th>10</th>\n      <td>{'learning_rate': 0.1, 'max_depth': 6, 'n_esti...</td>\n      <td>0.929752</td>\n      <td>0.382825</td>\n      <td>0.911120</td>\n    </tr>\n    <tr>\n      <th>11</th>\n      <td>{'learning_rate': 0.1, 'max_depth': 6, 'n_esti...</td>\n      <td>0.929121</td>\n      <td>0.378701</td>\n      <td>0.910143</td>\n    </tr>\n    <tr>\n      <th>12</th>\n      <td>{'learning_rate': 0.1, 'max_depth': 9, 'n_esti...</td>\n      <td>0.928145</td>\n      <td>0.369856</td>\n      <td>0.905806</td>\n    </tr>\n    <tr>\n      <th>13</th>\n      <td>{'learning_rate': 0.1, 'max_depth': 9, 'n_esti...</td>\n      <td>0.929207</td>\n      <td>0.367000</td>\n      <td>0.911146</td>\n    </tr>\n    <tr>\n      <th>14</th>\n      <td>{'learning_rate': 0.1, 'max_depth': 9, 'n_esti...</td>\n      <td>0.929953</td>\n      <td>0.375226</td>\n      <td>0.912213</td>\n    </tr>\n    <tr>\n      <th>15</th>\n      <td>{'learning_rate': 0.1, 'max_depth': 12, 'n_est...</td>\n      <td>0.928346</td>\n      <td>0.364779</td>\n      <td>0.907287</td>\n    </tr>\n    <tr>\n      <th>16</th>\n      <td>{'learning_rate': 0.1, 'max_depth': 12, 'n_est...</td>\n      <td>0.930010</td>\n      <td>0.372055</td>\n      <td>0.912593</td>\n    </tr>\n    <tr>\n      <th>17</th>\n      <td>{'learning_rate': 0.1, 'max_depth': 12, 'n_est...</td>\n      <td>0.930297</td>\n      <td>0.379985</td>\n      <td>0.912730</td>\n    </tr>\n    <tr>\n      <th>18</th>\n      <td>{'learning_rate': 1.0, 'max_depth': 6, 'n_esti...</td>\n      <td>0.894441</td>\n      <td>0.406601</td>\n      <td>0.828585</td>\n    </tr>\n    <tr>\n      <th>19</th>\n      <td>{'learning_rate': 1.0, 'max_depth': 6, 'n_esti...</td>\n      <td>0.917245</td>\n      <td>0.399293</td>\n      <td>0.875290</td>\n    </tr>\n    <tr>\n      <th>20</th>\n      <td>{'learning_rate': 1.0, 'max_depth': 6, 'n_esti...</td>\n      <td>0.923986</td>\n      <td>0.399297</td>\n      <td>0.892162</td>\n    </tr>\n    <tr>\n      <th>21</th>\n      <td>{'learning_rate': 1.0, 'max_depth': 9, 'n_esti...</td>\n      <td>0.900121</td>\n      <td>0.398009</td>\n      <td>0.832609</td>\n    </tr>\n    <tr>\n      <th>22</th>\n      <td>{'learning_rate': 1.0, 'max_depth': 9, 'n_esti...</td>\n      <td>0.917991</td>\n      <td>0.389787</td>\n      <td>0.872530</td>\n    </tr>\n    <tr>\n      <th>23</th>\n      <td>{'learning_rate': 1.0, 'max_depth': 9, 'n_esti...</td>\n      <td>0.924072</td>\n      <td>0.392951</td>\n      <td>0.891646</td>\n    </tr>\n    <tr>\n      <th>24</th>\n      <td>{'learning_rate': 1.0, 'max_depth': 12, 'n_est...</td>\n      <td>0.903047</td>\n      <td>0.400877</td>\n      <td>0.838401</td>\n    </tr>\n    <tr>\n      <th>25</th>\n      <td>{'learning_rate': 1.0, 'max_depth': 12, 'n_est...</td>\n      <td>0.920774</td>\n      <td>0.387866</td>\n      <td>0.875693</td>\n    </tr>\n    <tr>\n      <th>26</th>\n      <td>{'learning_rate': 1.0, 'max_depth': 12, 'n_est...</td>\n      <td>0.924761</td>\n      <td>0.386001</td>\n      <td>0.891380</td>\n    </tr>\n  </tbody>\n</table>\n</div>",
      "text/plain": [
       "                                               params  mean_test_acc  \\\n",
       "0   {'learning_rate': 0.01, 'max_depth': 6, 'n_est...       0.927342   \n",
       "1   {'learning_rate': 0.01, 'max_depth': 6, 'n_est...       0.927285   \n",
       "2   {'learning_rate': 0.01, 'max_depth': 6, 'n_est...       0.926396   \n",
       "3   {'learning_rate': 0.01, 'max_depth': 9, 'n_est...       0.928117   \n",
       "4   {'learning_rate': 0.01, 'max_depth': 9, 'n_est...       0.928633   \n",
       "5   {'learning_rate': 0.01, 'max_depth': 9, 'n_est...       0.928317   \n",
       "6   {'learning_rate': 0.01, 'max_depth': 12, 'n_es...       0.928404   \n",
       "7   {'learning_rate': 0.01, 'max_depth': 12, 'n_es...       0.929666   \n",
       "8   {'learning_rate': 0.01, 'max_depth': 12, 'n_es...       0.928920   \n",
       "9   {'learning_rate': 0.1, 'max_depth': 6, 'n_esti...       0.925908   \n",
       "10  {'learning_rate': 0.1, 'max_depth': 6, 'n_esti...       0.929752   \n",
       "11  {'learning_rate': 0.1, 'max_depth': 6, 'n_esti...       0.929121   \n",
       "12  {'learning_rate': 0.1, 'max_depth': 9, 'n_esti...       0.928145   \n",
       "13  {'learning_rate': 0.1, 'max_depth': 9, 'n_esti...       0.929207   \n",
       "14  {'learning_rate': 0.1, 'max_depth': 9, 'n_esti...       0.929953   \n",
       "15  {'learning_rate': 0.1, 'max_depth': 12, 'n_est...       0.928346   \n",
       "16  {'learning_rate': 0.1, 'max_depth': 12, 'n_est...       0.930010   \n",
       "17  {'learning_rate': 0.1, 'max_depth': 12, 'n_est...       0.930297   \n",
       "18  {'learning_rate': 1.0, 'max_depth': 6, 'n_esti...       0.894441   \n",
       "19  {'learning_rate': 1.0, 'max_depth': 6, 'n_esti...       0.917245   \n",
       "20  {'learning_rate': 1.0, 'max_depth': 6, 'n_esti...       0.923986   \n",
       "21  {'learning_rate': 1.0, 'max_depth': 9, 'n_esti...       0.900121   \n",
       "22  {'learning_rate': 1.0, 'max_depth': 9, 'n_esti...       0.917991   \n",
       "23  {'learning_rate': 1.0, 'max_depth': 9, 'n_esti...       0.924072   \n",
       "24  {'learning_rate': 1.0, 'max_depth': 12, 'n_est...       0.903047   \n",
       "25  {'learning_rate': 1.0, 'max_depth': 12, 'n_est...       0.920774   \n",
       "26  {'learning_rate': 1.0, 'max_depth': 12, 'n_est...       0.924761   \n",
       "\n",
       "    mean_test_recall  mean_test_auc  \n",
       "0           0.308409       0.910065  \n",
       "1           0.306829       0.911585  \n",
       "2           0.299534       0.908115  \n",
       "3           0.318866       0.912465  \n",
       "4           0.331216       0.914968  \n",
       "5           0.341974       0.911415  \n",
       "6           0.316006       0.913027  \n",
       "7           0.337541       0.915625  \n",
       "8           0.351473       0.911197  \n",
       "9           0.369844       0.904756  \n",
       "10          0.382825       0.911120  \n",
       "11          0.378701       0.910143  \n",
       "12          0.369856       0.905806  \n",
       "13          0.367000       0.911146  \n",
       "14          0.375226       0.912213  \n",
       "15          0.364779       0.907287  \n",
       "16          0.372055       0.912593  \n",
       "17          0.379985       0.912730  \n",
       "18          0.406601       0.828585  \n",
       "19          0.399293       0.875290  \n",
       "20          0.399297       0.892162  \n",
       "21          0.398009       0.832609  \n",
       "22          0.389787       0.872530  \n",
       "23          0.392951       0.891646  \n",
       "24          0.400877       0.838401  \n",
       "25          0.387866       0.875693  \n",
       "26          0.386001       0.891380  "
      ]
     },
     "execution_count": 141,
     "metadata": {},
     "output_type": "execute_result"
    }
   ],
   "source": [
    "#create df for metrics\n",
    "columns= ['params', 'mean_test_acc', 'mean_test_recall', 'mean_test_auc']\n",
    "indexes = [x for x in range(27)]\n",
    "metric_df = pd.DataFrame(index = indexes, columns=columns)\n",
    "metric_df = metric_df.fillna(0)\n",
    "metric_df['params'] = metric_df['params'].astype(str)\n",
    "metric_df[['mean_test_acc', 'mean_test_recall', 'mean_test_auc']] = metric_df[['mean_test_acc', 'mean_test_recall', 'mean_test_auc']].astype(float)\n",
    "\n",
    "metric_df['params'] = grid_result.cv_results_['params']\n",
    "metric_df['mean_test_acc'] = grid_result.cv_results_['mean_test_acc']\n",
    "metric_df['mean_test_recall'] = grid_result.cv_results_['mean_test_recall']\n",
    "metric_df['mean_test_auc'] = grid_result.cv_results_['mean_test_auc']\n",
    "\n",
    "metric_df"
   ]
  },
  {
   "cell_type": "code",
   "execution_count": 144,
   "metadata": {},
   "outputs": [
    {
     "name": "stdout",
     "output_type": "stream",
     "text": [
      "22\n",
      "fit_time 144.68603231906891\n",
      "22\n",
      "score_time 0.21292335987091066\n",
      "22\n",
      "test_acc 0.9282027520304021\n",
      "22\n",
      "test_recall 0.37269209062323627\n",
      "22\n",
      "test_auc 0.9097549472808313\n",
      "25\n",
      "fit_time 131.1722374200821\n",
      "25\n",
      "score_time 0.13515927791595458\n",
      "25\n",
      "test_acc 0.9282027520304021\n",
      "25\n",
      "test_recall 0.37269209062323627\n",
      "25\n",
      "test_auc 0.9097549472808313\n",
      "28\n",
      "fit_time 119.0152749657631\n",
      "28\n",
      "score_time 0.154928719997406\n",
      "28\n",
      "test_acc 0.9282027520304021\n",
      "28\n",
      "test_recall 0.37269209062323627\n",
      "28\n",
      "test_auc 0.9097549472808313\n"
     ]
    }
   ],
   "source": [
    "#Check the model with standardization\n",
    "max_features = [22, 25, 28]\n",
    "for m in max_features:\n",
    "    # define the model\n",
    "    model = XGBClassifier(n_estimators=500, subsample=0.7, max_depth=6, learning_rate=0.1, max_features = m)\n",
    "\n",
    "    # define the evaluation method\n",
    "    cv = RepeatedStratifiedKFold(n_splits=10, n_repeats=2, random_state=1)\n",
    "\n",
    "    #scoring params\n",
    "    scoring = {'acc': 'accuracy',\n",
    "            'recall': 'recall',\n",
    "            'auc': 'roc_auc'}\n",
    "\n",
    "    # evaluate the model on the dataset\n",
    "    n_scores = cross_validate(model, X_imp_st, y, scoring=scoring, cv=cv, n_jobs=-1, return_train_score= False)\n",
    "\n",
    "    # report performance\n",
    "    for key, value in n_scores.items():\n",
    "        print(m)\n",
    "        print(key, mean(value))"
   ]
  },
  {
   "cell_type": "code",
   "execution_count": 142,
   "metadata": {},
   "outputs": [],
   "source": [
    "metric_df.to_excel('/Scripts/transfer_modelling/grid_search_result.xlsx')"
   ]
  },
  {
   "cell_type": "code",
   "execution_count": 88,
   "metadata": {},
   "outputs": [
    {
     "name": "stderr",
     "output_type": "stream",
     "text": [
      "/Library/Frameworks/Python.framework/Versions/3.8/lib/python3.8/site-packages/xgboost/sklearn.py:1146: UserWarning: The use of label encoder in XGBClassifier is deprecated and will be removed in a future release. To remove this warning, do the following: 1) Pass option use_label_encoder=False when constructing XGBClassifier object; and 2) Encode your labels (y) as integers starting with 0, i.e. 0, 1, 2, ..., [num_class - 1].\n",
      "  warnings.warn(label_encoder_deprecation_msg, UserWarning)\n",
      "[16:19:02] WARNING: /Users/travis/build/dmlc/xgboost/src/learner.cc:1095: Starting in XGBoost 1.3.0, the default evaluation metric used with the objective 'binary:logistic' was changed from 'error' to 'logloss'. Explicitly set eval_metric if you'd like to restore the old behavior.\n"
     ]
    }
   ],
   "source": [
    "model = XGBClassifier(n_estimators=500, subsample=0.7, max_depth=6, learning_rate=0.1)\n",
    "\n",
    "#fit the model\n",
    "m = model.fit(X_res, y_res)"
   ]
  },
  {
   "cell_type": "code",
   "execution_count": 90,
   "metadata": {},
   "outputs": [
    {
     "name": "stderr",
     "output_type": "stream",
     "text": [
      "/Library/Frameworks/Python.framework/Versions/3.8/lib/python3.8/site-packages/xgboost/data.py:112: UserWarning: Use subset (sliced data) of np.ndarray is not recommended because it will generate extra copies and increase memory consumption\n  warnings.warn(\n"
     ]
    }
   ],
   "source": [
    "# load predict df\n",
    "predict_df = pd.read_excel('/Scripts/5_transfer_modelling_datas/players_2021_predict_df3.xlsx')\n",
    "\n",
    "#save the names to a df and drop it from the predict df\n",
    "name_df = predict_df[['Name','ID', 'Country', 'LeagueInvolved']]\n",
    "\n",
    "#drop the unnecessary column\n",
    "predict_df = predict_df.drop(['Unnamed: 0','Pos', 'MarketValue', 'ID',\\\n",
    "    'Joined', 'Nationality', 'Name', 'Eigv'], 1)\n",
    "\n",
    "#copy predict df\n",
    "p_df = predict_df.copy()\n",
    "\n",
    "#encode\n",
    "p_df_cbe = cbe_encoder.transform(p_df)\n",
    "\n",
    "#impute\n",
    "p_df_cbe_imp = imputer.transform(p_df_cbe)\n",
    "p_df_cbe_imp = pd.DataFrame(data = p_df_cbe_imp, columns = p_df_cbe.columns)\n",
    "\n",
    "#standardization\n",
    "p_df_cbe_imp_st = scaler.transform(p_df_cbe_imp)\n",
    "p_df_cbe_imp_st = pd.DataFrame(data = p_df_cbe_imp_st, columns = p_df_cbe_imp.columns)\n",
    "\n",
    "#predict \n",
    "#p_df_cbe_imp_st['preds'] = ml.predict(p_df_cbe_imp_st)\n",
    "p_df_cbe_imp_st['confidence'] = m.predict_proba(p_df_cbe_imp_st)[:, 1]\n",
    "\n",
    "#add the name column\n",
    "p_df_cbe_imp_st['Name'] = name_df['Name']\n",
    "p_df_cbe_imp_st['ID'] = name_df['ID']\n",
    "p_df_cbe_imp_st['Country'] = name_df['Country']\n",
    "p_df_cbe_imp_st['LeagueInvolved'] = name_df['LeagueInvolved']\n",
    "\n",
    "#save the result in excel\n",
    "#p_df_cbe_imp_st.to_excel('/Scripts/5_transfer_modelling_scripts/result_pl.xlsx')\n",
    "p_df_cbe_imp_st.to_excel('/Scripts/5_transfer_modelling_scripts/result_laliga.xlsx')\n",
    "#p_df_cbe_imp_st.to_excel('/Scripts/5_transfer_modelling_scripts/result_seriea.xlsx')\n",
    "#p_df_cbe_imp_st.to_excel('/Scripts/5_transfer_modelling_scripts/result_ligue1.xlsx')\n",
    "#p_df_cbe_imp_st.to_excel('/Scripts/5_transfer_modelling_scripts/result_bundesliga.xlsx')"
   ]
  },
  {
   "cell_type": "markdown",
   "metadata": {},
   "source": [
    "'English Premier League'"
   ]
  },
  {
   "cell_type": "code",
   "execution_count": 219,
   "metadata": {},
   "outputs": [
    {
     "data": {
      "text/plain": [
       "0    15852\n",
       "1     1579\n",
       "Name: target, dtype: int64"
      ]
     },
     "execution_count": 219,
     "metadata": {},
     "output_type": "execute_result"
    }
   ],
   "source": [
    "tdf['target'].value_counts()"
   ]
  },
  {
   "cell_type": "code",
   "execution_count": 220,
   "metadata": {},
   "outputs": [
    {
     "name": "stdout",
     "output_type": "stream",
     "text": [
      "fit_time 116.34197583198548\nscore_time 0.130845844745636\ntest_acc 0.9282027520304021\ntest_recall 0.37269209062323627\ntest_auc 0.9097549472808313\n"
     ]
    }
   ],
   "source": [
    "# define the model\n",
    "model = XGBClassifier(n_estimators=500, subsample=0.7, max_depth=6, learning_rate=0.1)\n",
    "\n",
    "# define the evaluation method\n",
    "cv = RepeatedStratifiedKFold(n_splits=10, n_repeats=2, random_state=1)\n",
    "\n",
    "#scoring params\n",
    "scoring = {'acc': 'accuracy',\n",
    "           'recall': 'recall',\n",
    "           'auc': 'roc_auc'}\n",
    "\n",
    "# evaluate the model on the dataset\n",
    "n_scores = cross_validate(model, X_imp_st, y, scoring=scoring, cv=cv, n_jobs=-1, return_train_score= False)\n",
    "\n",
    "# report performance\n",
    "for key, value in n_scores.items():\n",
    "    print(key, mean(value))"
   ]
  },
  {
   "cell_type": "code",
   "execution_count": 221,
   "metadata": {},
   "outputs": [
    {
     "name": "stderr",
     "output_type": "stream",
     "text": [
      "/Library/Frameworks/Python.framework/Versions/3.8/lib/python3.8/site-packages/xgboost/sklearn.py:1146: UserWarning: The use of label encoder in XGBClassifier is deprecated and will be removed in a future release. To remove this warning, do the following: 1) Pass option use_label_encoder=False when constructing XGBClassifier object; and 2) Encode your labels (y) as integers starting with 0, i.e. 0, 1, 2, ..., [num_class - 1].\n",
      "  warnings.warn(label_encoder_deprecation_msg, UserWarning)\n",
      "[13:30:54] WARNING: /Users/travis/build/dmlc/xgboost/src/learner.cc:1095: Starting in XGBoost 1.3.0, the default evaluation metric used with the objective 'binary:logistic' was changed from 'error' to 'logloss'. Explicitly set eval_metric if you'd like to restore the old behavior.\n"
     ]
    },
    {
     "data": {
      "text/plain": [
       "{'EN_PL': 0.07543064,\n",
       " 'CorrMarketValue': 0.061069876,\n",
       " 'LeagueInvolved': 0.04448992,\n",
       " 'IT_SERIE_A': 0.03602741,\n",
       " 'DEGREE': 0.031983297,\n",
       " 'Country': 0.030884247,\n",
       " 'Age': 0.024595967,\n",
       " 'Foot': 0.024302423,\n",
       " 'GE_BUNDESLIGA': 0.023643972,\n",
       " 'SP_LA_LIGA': 0.022218918,\n",
       " 'FR_LIGUE_1': 0.020783553,\n",
       " 'GK_kicking': 0.01913462,\n",
       " 'Eigv': 0.019085083,\n",
       " 'Stamina': 0.01799486,\n",
       " 'IntReputation': 0.017629972,\n",
       " 'Standing_tackle': 0.01747269,\n",
       " 'Sliding_tackle': 0.017391978,\n",
       " 'Heading_accuracy': 0.017087363,\n",
       " 'Finishing': 0.01697355,\n",
       " 'Reactions': 0.016884675,\n",
       " 'Balance': 0.01687092,\n",
       " 'Long_shots': 0.016638786,\n",
       " 'GK_reflexes': 0.016548378,\n",
       " 'Curve': 0.016445864,\n",
       " 'Volleys': 0.016346978,\n",
       " 'Dribbling': 0.016232932,\n",
       " 'Interceptions': 0.016156266,\n",
       " 'Strength': 0.016108893,\n",
       " 'Acceleration': 0.016032461,\n",
       " 'Marking': 0.015688732,\n",
       " 'Long_passing': 0.01563273,\n",
       " 'Short_passing': 0.015542802,\n",
       " 'GK_positioning': 0.015412816,\n",
       " 'GK_diving': 0.015354708,\n",
       " 'Composure': 0.015225076,\n",
       " 'Crossing': 0.015208019,\n",
       " 'Penalties': 0.015092432,\n",
       " 'Sprint_speed': 0.015077253,\n",
       " 'Jumping': 0.015018803,\n",
       " 'Agility': 0.0150003,\n",
       " 'Aggression': 0.014999917,\n",
       " 'Shot_power': 0.014921879,\n",
       " 'Vision': 0.014688036,\n",
       " 'Positioning': 0.0145586645,\n",
       " 'FK_accuracy': 0.014325001,\n",
       " 'Position': 0.014144228,\n",
       " 'Years': 0.013933557,\n",
       " 'GK_handling': 0.013909552,\n",
       " 'Ball_control': 0.013799071}"
      ]
     },
     "execution_count": 221,
     "metadata": {},
     "output_type": "execute_result"
    }
   ],
   "source": [
    "m = model.fit(X_imp_st, y)\n",
    "zip_iterator = zip(list(X_imp_st.columns), m.feature_importances_)\n",
    "feature_dict = dict(zip_iterator)\n",
    "dict( sorted(feature_dict.items(), key=operator.itemgetter(1),reverse=True))"
   ]
  },
  {
   "cell_type": "markdown",
   "metadata": {},
   "source": [
    "Spain Primera Division"
   ]
  },
  {
   "cell_type": "code",
   "execution_count": 206,
   "metadata": {},
   "outputs": [
    {
     "data": {
      "text/plain": [
       "0    16249\n",
       "1     1182\n",
       "Name: target, dtype: int64"
      ]
     },
     "execution_count": 206,
     "metadata": {},
     "output_type": "execute_result"
    }
   ],
   "source": [
    "tdf['target'].value_counts()"
   ]
  },
  {
   "cell_type": "code",
   "execution_count": 207,
   "metadata": {},
   "outputs": [
    {
     "name": "stdout",
     "output_type": "stream",
     "text": [
      "fit_time 163.75419728755952\nscore_time 0.28051395416259767\ntest_acc 0.9455280657360767\ntest_recall 0.3490065517732516\ntest_auc 0.9171168121683777\n"
     ]
    }
   ],
   "source": [
    "# define the model\n",
    "model = XGBClassifier(n_estimators=500, subsample=0.7, max_depth=6, learning_rate=0.1)\n",
    "\n",
    "# define the evaluation method\n",
    "cv = RepeatedStratifiedKFold(n_splits=10, n_repeats=2, random_state=1)\n",
    "\n",
    "#scoring params\n",
    "scoring = {'acc': 'accuracy',\n",
    "           'recall': 'recall',\n",
    "           'auc': 'roc_auc'}\n",
    "\n",
    "# evaluate the model on the dataset\n",
    "n_scores = cross_validate(model, X_imp_st, y, scoring=scoring, cv=cv, n_jobs=-1, return_train_score= False)\n",
    "\n",
    "# report performance\n",
    "for key, value in n_scores.items():\n",
    "    print(key, mean(value))"
   ]
  },
  {
   "cell_type": "code",
   "execution_count": 208,
   "metadata": {},
   "outputs": [
    {
     "name": "stderr",
     "output_type": "stream",
     "text": [
      "/Library/Frameworks/Python.framework/Versions/3.8/lib/python3.8/site-packages/xgboost/sklearn.py:1146: UserWarning: The use of label encoder in XGBClassifier is deprecated and will be removed in a future release. To remove this warning, do the following: 1) Pass option use_label_encoder=False when constructing XGBClassifier object; and 2) Encode your labels (y) as integers starting with 0, i.e. 0, 1, 2, ..., [num_class - 1].\n",
      "  warnings.warn(label_encoder_deprecation_msg, UserWarning)\n",
      "[13:14:51] WARNING: /Users/travis/build/dmlc/xgboost/src/learner.cc:1095: Starting in XGBoost 1.3.0, the default evaluation metric used with the objective 'binary:logistic' was changed from 'error' to 'logloss'. Explicitly set eval_metric if you'd like to restore the old behavior.\n"
     ]
    },
    {
     "data": {
      "text/plain": [
       "{'SP_LA_LIGA': 0.081781134,\n",
       " 'Country': 0.06022952,\n",
       " 'LeagueInvolved': 0.041736595,\n",
       " 'CorrMarketValue': 0.031127911,\n",
       " 'IT_SERIE_A': 0.026895177,\n",
       " 'DEGREE': 0.025577426,\n",
       " 'IntReputation': 0.024735317,\n",
       " 'Foot': 0.02261051,\n",
       " 'FR_LIGUE_1': 0.021728063,\n",
       " 'Sliding_tackle': 0.020842126,\n",
       " 'Reactions': 0.02011249,\n",
       " 'GE_BUNDESLIGA': 0.019937873,\n",
       " 'Short_passing': 0.019676719,\n",
       " 'Interceptions': 0.019131422,\n",
       " 'EN_PL': 0.019030012,\n",
       " 'Standing_tackle': 0.018938126,\n",
       " 'Age': 0.01867156,\n",
       " 'Curve': 0.018598838,\n",
       " 'Ball_control': 0.01842062,\n",
       " 'Eigv': 0.017963065,\n",
       " 'Finishing': 0.017772771,\n",
       " 'Marking': 0.017616745,\n",
       " 'Vision': 0.017456511,\n",
       " 'GK_kicking': 0.01723767,\n",
       " 'Volleys': 0.017135933,\n",
       " 'FK_accuracy': 0.017127067,\n",
       " 'Jumping': 0.01698601,\n",
       " 'Position': 0.016961647,\n",
       " 'Crossing': 0.016855936,\n",
       " 'Dribbling': 0.016316967,\n",
       " 'Long_shots': 0.016302647,\n",
       " 'Balance': 0.015662659,\n",
       " 'Positioning': 0.01546647,\n",
       " 'Composure': 0.01546164,\n",
       " 'Agility': 0.015253614,\n",
       " 'Penalties': 0.015161349,\n",
       " 'GK_diving': 0.015156563,\n",
       " 'Long_passing': 0.0150668835,\n",
       " 'Heading_accuracy': 0.015050217,\n",
       " 'GK_handling': 0.01492017,\n",
       " 'Sprint_speed': 0.014804894,\n",
       " 'Shot_power': 0.0145492405,\n",
       " 'Aggression': 0.014468795,\n",
       " 'Stamina': 0.01440745,\n",
       " 'Strength': 0.0142973885,\n",
       " 'Acceleration': 0.0142199965,\n",
       " 'Years': 0.014192981,\n",
       " 'GK_positioning': 0.013662819,\n",
       " 'GK_reflexes': 0.012682412}"
      ]
     },
     "execution_count": 208,
     "metadata": {},
     "output_type": "execute_result"
    }
   ],
   "source": [
    "m = model.fit(X_imp_st, y)\n",
    "zip_iterator = zip(list(X_imp_st.columns), m.feature_importances_)\n",
    "feature_dict = dict(zip_iterator)\n",
    "dict( sorted(feature_dict.items(), key=operator.itemgetter(1),reverse=True))"
   ]
  },
  {
   "cell_type": "markdown",
   "metadata": {},
   "source": [
    "Italian Serie A"
   ]
  },
  {
   "cell_type": "code",
   "execution_count": 194,
   "metadata": {},
   "outputs": [
    {
     "data": {
      "text/plain": [
       "0    15469\n",
       "1     1962\n",
       "Name: target, dtype: int64"
      ]
     },
     "execution_count": 194,
     "metadata": {},
     "output_type": "execute_result"
    }
   ],
   "source": [
    "tdf['target'].value_counts()"
   ]
  },
  {
   "cell_type": "code",
   "execution_count": 195,
   "metadata": {},
   "outputs": [
    {
     "name": "stdout",
     "output_type": "stream",
     "text": [
      "fit_time 165.51407358646392\nscore_time 0.17943907976150514\ntest_acc 0.9369228716964846\ntest_recall 0.5619354086812389\ntest_auc 0.9377928128114753\n"
     ]
    }
   ],
   "source": [
    "# define the model\n",
    "model = XGBClassifier(n_estimators=500, subsample=0.7, max_depth=6, learning_rate=0.1)\n",
    "\n",
    "# define the evaluation method\n",
    "cv = RepeatedStratifiedKFold(n_splits=10, n_repeats=2, random_state=1)\n",
    "\n",
    "#scoring params\n",
    "scoring = {'acc': 'accuracy',\n",
    "           'recall': 'recall',\n",
    "           'auc': 'roc_auc'}\n",
    "\n",
    "# evaluate the model on the dataset\n",
    "n_scores = cross_validate(model, X_imp_st, y, scoring=scoring, cv=cv, n_jobs=-1, return_train_score= False)\n",
    "\n",
    "# report performance\n",
    "for key, value in n_scores.items():\n",
    "    print(key, mean(value))"
   ]
  },
  {
   "cell_type": "code",
   "execution_count": 196,
   "metadata": {},
   "outputs": [
    {
     "name": "stderr",
     "output_type": "stream",
     "text": [
      "/Library/Frameworks/Python.framework/Versions/3.8/lib/python3.8/site-packages/xgboost/sklearn.py:1146: UserWarning: The use of label encoder in XGBClassifier is deprecated and will be removed in a future release. To remove this warning, do the following: 1) Pass option use_label_encoder=False when constructing XGBClassifier object; and 2) Encode your labels (y) as integers starting with 0, i.e. 0, 1, 2, ..., [num_class - 1].\n",
      "  warnings.warn(label_encoder_deprecation_msg, UserWarning)\n",
      "[12:53:51] WARNING: /Users/travis/build/dmlc/xgboost/src/learner.cc:1095: Starting in XGBoost 1.3.0, the default evaluation metric used with the objective 'binary:logistic' was changed from 'error' to 'logloss'. Explicitly set eval_metric if you'd like to restore the old behavior.\n"
     ]
    },
    {
     "data": {
      "text/plain": [
       "{'IT_SERIE_A': 0.25747466,\n",
       " 'LeagueInvolved': 0.041223347,\n",
       " 'Country': 0.027814338,\n",
       " 'CorrMarketValue': 0.026312975,\n",
       " 'Foot': 0.023971107,\n",
       " 'DEGREE': 0.023633806,\n",
       " 'Eigv': 0.02290062,\n",
       " 'SP_LA_LIGA': 0.021745728,\n",
       " 'Age': 0.020525174,\n",
       " 'Ball_control': 0.019879373,\n",
       " 'Sliding_tackle': 0.018117588,\n",
       " 'GK_kicking': 0.015469994,\n",
       " 'IntReputation': 0.015168412,\n",
       " 'Interceptions': 0.015054775,\n",
       " 'Vision': 0.015006033,\n",
       " 'Finishing': 0.01489244,\n",
       " 'Composure': 0.014476631,\n",
       " 'GK_handling': 0.014393425,\n",
       " 'GK_reflexes': 0.014356014,\n",
       " 'Dribbling': 0.01431823,\n",
       " 'GE_BUNDESLIGA': 0.014111714,\n",
       " 'Stamina': 0.01390391,\n",
       " 'FR_LIGUE_1': 0.013812639,\n",
       " 'Long_passing': 0.013676626,\n",
       " 'Short_passing': 0.013611804,\n",
       " 'Positioning': 0.013378849,\n",
       " 'Marking': 0.0133099,\n",
       " 'GK_positioning': 0.013305962,\n",
       " 'Long_shots': 0.013206923,\n",
       " 'Crossing': 0.013082646,\n",
       " 'Acceleration': 0.013040155,\n",
       " 'Curve': 0.0130376555,\n",
       " 'Volleys': 0.01302334,\n",
       " 'Years': 0.012925279,\n",
       " 'Agility': 0.012611002,\n",
       " 'Reactions': 0.01235738,\n",
       " 'Standing_tackle': 0.012301144,\n",
       " 'Position': 0.012203499,\n",
       " 'Aggression': 0.012003695,\n",
       " 'Jumping': 0.011987651,\n",
       " 'Shot_power': 0.01177423,\n",
       " 'Penalties': 0.011738273,\n",
       " 'FK_accuracy': 0.011669539,\n",
       " 'Strength': 0.011574244,\n",
       " 'Balance': 0.011444827,\n",
       " 'EN_PL': 0.011331561,\n",
       " 'Sprint_speed': 0.011296063,\n",
       " 'Heading_accuracy': 0.010880012,\n",
       " 'GK_diving': 0.0106648095}"
      ]
     },
     "execution_count": 196,
     "metadata": {},
     "output_type": "execute_result"
    }
   ],
   "source": [
    "m = model.fit(X_imp_st, y)\n",
    "zip_iterator = zip(list(X_imp_st.columns), m.feature_importances_)\n",
    "feature_dict = dict(zip_iterator)\n",
    "dict( sorted(feature_dict.items(), key=operator.itemgetter(1),reverse=True))"
   ]
  },
  {
   "cell_type": "markdown",
   "metadata": {},
   "source": [
    "French Ligue 1"
   ]
  },
  {
   "cell_type": "code",
   "execution_count": 233,
   "metadata": {},
   "outputs": [
    {
     "data": {
      "text/plain": [
       "0    16274\n",
       "1     1157\n",
       "Name: target, dtype: int64"
      ]
     },
     "execution_count": 233,
     "metadata": {},
     "output_type": "execute_result"
    }
   ],
   "source": [
    "tdf['target'].value_counts()"
   ]
  },
  {
   "cell_type": "code",
   "execution_count": 234,
   "metadata": {},
   "outputs": [
    {
     "name": "stdout",
     "output_type": "stream",
     "text": [
      "fit_time 143.9721603512764\nscore_time 0.1668903946876526\ntest_acc 0.9457575715706865\ntest_recall 0.34788980509745127\ntest_auc 0.8997180921487506\n"
     ]
    }
   ],
   "source": [
    "# define the model\n",
    "model = XGBClassifier(n_estimators=500, subsample=0.7, max_depth=6, learning_rate=0.1)\n",
    "\n",
    "# define the evaluation method\n",
    "cv = RepeatedStratifiedKFold(n_splits=10, n_repeats=2, random_state=1)\n",
    "\n",
    "#scoring params\n",
    "scoring = {'acc': 'accuracy',\n",
    "           'recall': 'recall',\n",
    "           'auc': 'roc_auc'}\n",
    "\n",
    "# evaluate the model on the dataset\n",
    "n_scores = cross_validate(model, X_imp_st, y, scoring=scoring, cv=cv, n_jobs=-1, return_train_score= False)\n",
    "\n",
    "# report performance\n",
    "for key, value in n_scores.items():\n",
    "    print(key, mean(value))"
   ]
  },
  {
   "cell_type": "code",
   "execution_count": 235,
   "metadata": {},
   "outputs": [
    {
     "name": "stderr",
     "output_type": "stream",
     "text": [
      "/Library/Frameworks/Python.framework/Versions/3.8/lib/python3.8/site-packages/xgboost/sklearn.py:1146: UserWarning: The use of label encoder in XGBClassifier is deprecated and will be removed in a future release. To remove this warning, do the following: 1) Pass option use_label_encoder=False when constructing XGBClassifier object; and 2) Encode your labels (y) as integers starting with 0, i.e. 0, 1, 2, ..., [num_class - 1].\n",
      "  warnings.warn(label_encoder_deprecation_msg, UserWarning)\n",
      "[13:49:48] WARNING: /Users/travis/build/dmlc/xgboost/src/learner.cc:1095: Starting in XGBoost 1.3.0, the default evaluation metric used with the objective 'binary:logistic' was changed from 'error' to 'logloss'. Explicitly set eval_metric if you'd like to restore the old behavior.\n"
     ]
    },
    {
     "data": {
      "text/plain": [
       "{'LeagueInvolved': 0.060094733,\n",
       " 'FR_LIGUE_1': 0.045711055,\n",
       " 'Country': 0.04563606,\n",
       " 'Years': 0.028469516,\n",
       " 'EN_PL': 0.0277901,\n",
       " 'DEGREE': 0.026452733,\n",
       " 'CorrMarketValue': 0.024872076,\n",
       " 'Foot': 0.023949454,\n",
       " 'Age': 0.023358941,\n",
       " 'Eigv': 0.022893112,\n",
       " 'Short_passing': 0.022257077,\n",
       " 'IntReputation': 0.02057262,\n",
       " 'Ball_control': 0.020223293,\n",
       " 'SP_LA_LIGA': 0.019920422,\n",
       " 'Reactions': 0.019110046,\n",
       " 'Finishing': 0.019058067,\n",
       " 'Sliding_tackle': 0.018945863,\n",
       " 'Heading_accuracy': 0.018727984,\n",
       " 'IT_SERIE_A': 0.018389484,\n",
       " 'GE_BUNDESLIGA': 0.018375529,\n",
       " 'GK_handling': 0.018198812,\n",
       " 'GK_positioning': 0.017796583,\n",
       " 'Shot_power': 0.017761823,\n",
       " 'Volleys': 0.01775072,\n",
       " 'GK_kicking': 0.017713748,\n",
       " 'Standing_tackle': 0.017672623,\n",
       " 'Strength': 0.01741032,\n",
       " 'Marking': 0.01739297,\n",
       " 'Agility': 0.01734571,\n",
       " 'Jumping': 0.01721168,\n",
       " 'Curve': 0.017016992,\n",
       " 'Position': 0.016734155,\n",
       " 'Penalties': 0.016680097,\n",
       " 'Dribbling': 0.016672008,\n",
       " 'Sprint_speed': 0.016607149,\n",
       " 'FK_accuracy': 0.016486235,\n",
       " 'Interceptions': 0.015960965,\n",
       " 'Positioning': 0.015819328,\n",
       " 'Crossing': 0.01576439,\n",
       " 'Balance': 0.015752105,\n",
       " 'Composure': 0.01572137,\n",
       " 'Vision': 0.0156244105,\n",
       " 'Acceleration': 0.015366767,\n",
       " 'Long_shots': 0.015220717,\n",
       " 'GK_diving': 0.014970548,\n",
       " 'Aggression': 0.014901762,\n",
       " 'Stamina': 0.01474233,\n",
       " 'Long_passing': 0.014655327,\n",
       " 'GK_reflexes': 0.014240221}"
      ]
     },
     "execution_count": 235,
     "metadata": {},
     "output_type": "execute_result"
    }
   ],
   "source": [
    "m = model.fit(X_imp_st, y)\n",
    "zip_iterator = zip(list(X_imp_st.columns), m.feature_importances_)\n",
    "feature_dict = dict(zip_iterator)\n",
    "dict( sorted(feature_dict.items(), key=operator.itemgetter(1),reverse=True))"
   ]
  },
  {
   "cell_type": "markdown",
   "metadata": {},
   "source": [
    "German 1 Bundesliga"
   ]
  },
  {
   "cell_type": "code",
   "execution_count": 256,
   "metadata": {},
   "outputs": [
    {
     "data": {
      "text/plain": [
       "0    16133\n",
       "1     1298\n",
       "Name: target, dtype: int64"
      ]
     },
     "execution_count": 256,
     "metadata": {},
     "output_type": "execute_result"
    }
   ],
   "source": [
    "tdf['target'].value_counts()"
   ]
  },
  {
   "cell_type": "code",
   "execution_count": 257,
   "metadata": {},
   "outputs": [
    {
     "name": "stdout",
     "output_type": "stream",
     "text": [
      "fit_time 123.90389186143875\nscore_time 0.15353232622146606\ntest_acc 0.9428603338649486\ntest_recall 0.38632081097197385\ntest_auc 0.9117620183963568\n"
     ]
    }
   ],
   "source": [
    "# define the model\n",
    "model = XGBClassifier(n_estimators=500, subsample=0.7, max_depth=6, learning_rate=0.1)\n",
    "\n",
    "# define the evaluation method\n",
    "cv = RepeatedStratifiedKFold(n_splits=10, n_repeats=2, random_state=1)\n",
    "\n",
    "#scoring params\n",
    "scoring = {'acc': 'accuracy',\n",
    "           'recall': 'recall',\n",
    "           'auc': 'roc_auc'}\n",
    "\n",
    "# evaluate the model on the dataset\n",
    "n_scores = cross_validate(model, X_imp_st, y, scoring=scoring, cv=cv, n_jobs=-1, return_train_score= False)\n",
    "\n",
    "# report performance\n",
    "for key, value in n_scores.items():\n",
    "    print(key, mean(value))"
   ]
  },
  {
   "cell_type": "code",
   "execution_count": 258,
   "metadata": {},
   "outputs": [
    {
     "name": "stderr",
     "output_type": "stream",
     "text": [
      "/Library/Frameworks/Python.framework/Versions/3.8/lib/python3.8/site-packages/xgboost/sklearn.py:1146: UserWarning: The use of label encoder in XGBClassifier is deprecated and will be removed in a future release. To remove this warning, do the following: 1) Pass option use_label_encoder=False when constructing XGBClassifier object; and 2) Encode your labels (y) as integers starting with 0, i.e. 0, 1, 2, ..., [num_class - 1].\n",
      "  warnings.warn(label_encoder_deprecation_msg, UserWarning)\n",
      "[14:08:25] WARNING: /Users/travis/build/dmlc/xgboost/src/learner.cc:1095: Starting in XGBoost 1.3.0, the default evaluation metric used with the objective 'binary:logistic' was changed from 'error' to 'logloss'. Explicitly set eval_metric if you'd like to restore the old behavior.\n"
     ]
    },
    {
     "data": {
      "text/plain": [
       "{'GE_BUNDESLIGA': 0.12035412,\n",
       " 'LeagueInvolved': 0.043231204,\n",
       " 'CorrMarketValue': 0.034268774,\n",
       " 'Age': 0.029035537,\n",
       " 'Country': 0.0286622,\n",
       " 'Eigv': 0.025652682,\n",
       " 'DEGREE': 0.025011877,\n",
       " 'IT_SERIE_A': 0.023430021,\n",
       " 'Reactions': 0.022169547,\n",
       " 'SP_LA_LIGA': 0.01976017,\n",
       " 'IntReputation': 0.019552331,\n",
       " 'Marking': 0.0188082,\n",
       " 'Short_passing': 0.018754805,\n",
       " 'Foot': 0.01802719,\n",
       " 'Finishing': 0.018026782,\n",
       " 'FR_LIGUE_1': 0.01790618,\n",
       " 'Dribbling': 0.017813094,\n",
       " 'Heading_accuracy': 0.017575424,\n",
       " 'Standing_tackle': 0.017560741,\n",
       " 'Sliding_tackle': 0.017342879,\n",
       " 'Ball_control': 0.01734155,\n",
       " 'Crossing': 0.01715598,\n",
       " 'Curve': 0.016859196,\n",
       " 'Long_shots': 0.016818339,\n",
       " 'Positioning': 0.01661522,\n",
       " 'Interceptions': 0.016559396,\n",
       " 'Stamina': 0.016472029,\n",
       " 'Sprint_speed': 0.016307656,\n",
       " 'Composure': 0.01622056,\n",
       " 'Shot_power': 0.01621705,\n",
       " 'Position': 0.015889287,\n",
       " 'GK_kicking': 0.015856588,\n",
       " 'GK_reflexes': 0.01573061,\n",
       " 'GK_positioning': 0.015624254,\n",
       " 'Agility': 0.015525941,\n",
       " 'Balance': 0.015514727,\n",
       " 'Volleys': 0.015324448,\n",
       " 'EN_PL': 0.015270822,\n",
       " 'FK_accuracy': 0.0151495915,\n",
       " 'GK_diving': 0.015070143,\n",
       " 'Strength': 0.014940354,\n",
       " 'Penalties': 0.0145099135,\n",
       " 'Vision': 0.014418048,\n",
       " 'Aggression': 0.014340175,\n",
       " 'Jumping': 0.013943075,\n",
       " 'Long_passing': 0.0138394255,\n",
       " 'Acceleration': 0.013661336,\n",
       " 'GK_handling': 0.013512354,\n",
       " 'Years': 0.012368199}"
      ]
     },
     "execution_count": 258,
     "metadata": {},
     "output_type": "execute_result"
    }
   ],
   "source": [
    "m = model.fit(X_imp_st, y)\n",
    "zip_iterator = zip(list(X_imp_st.columns), m.feature_importances_)\n",
    "feature_dict = dict(zip_iterator)\n",
    "dict( sorted(feature_dict.items(), key=operator.itemgetter(1),reverse=True))"
   ]
  },
  {
   "cell_type": "code",
   "execution_count": null,
   "metadata": {},
   "outputs": [],
   "source": []
  }
 ]
}